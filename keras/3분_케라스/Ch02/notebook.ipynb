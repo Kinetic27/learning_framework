{
 "cells": [
  {
   "cell_type": "markdown",
   "metadata": {},
   "source": [
    "# Chapter 2 인공신경망\n",
    "\n",
    "### 1. ANN 원리\n",
    " - ANN 개념\n",
    "     - Biological Neural Network 와 유사하게 hidden layer를 포함하는 Artificial Neural Network\n",
    " - ANN 구조\n",
    "     - Input -> Hidden(activation) -> output(activation) 구조.\n",
    " - ANN 활용\n",
    "     - 분류 ANN : 주로 Cross-entropy 사용.\n",
    "     - 회귀 ANN : 주로 MSE를 사용. (좀 아닌듯.)\n",
    " - ANN 구현 방법\n",
    "    \n",
    "### 2. 필기체를 구분하는 분류 ANN 구현\n",
    "### 3. 시계열을 예측하는 회귀 ANN 구현"
   ]
  }
 ],
 "metadata": {
  "kernelspec": {
   "display_name": "Python 3",
   "language": "python",
   "name": "python3"
  },
  "language_info": {
   "codemirror_mode": {
    "name": "ipython",
    "version": 3
   },
   "file_extension": ".py",
   "mimetype": "text/x-python",
   "name": "python",
   "nbconvert_exporter": "python",
   "pygments_lexer": "ipython3",
   "version": "3.6.5"
  }
 },
 "nbformat": 4,
 "nbformat_minor": 2
}
