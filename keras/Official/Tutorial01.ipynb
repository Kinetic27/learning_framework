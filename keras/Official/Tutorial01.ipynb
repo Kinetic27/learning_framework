{
 "cells": [
  {
   "cell_type": "code",
   "execution_count": 1,
   "metadata": {},
   "outputs": [
    {
     "name": "stderr",
     "output_type": "stream",
     "text": [
      "Using TensorFlow backend.\n",
      "/Users/jerry/.pyenv/versions/anaconda3-5.2.0/lib/python3.6/importlib/_bootstrap.py:219: RuntimeWarning: compiletime version 3.5 of module 'tensorflow.python.framework.fast_tensor_util' does not match runtime version 3.6\n",
      "  return f(*args, **kwds)\n"
     ]
    }
   ],
   "source": [
    "import numpy as np\n",
    "import keras\n",
    "from keras import datasets\n",
    "from keras import utils\n",
    "from keras.models import Sequential\n",
    "from keras.layers import Dense"
   ]
  },
  {
   "cell_type": "code",
   "execution_count": 2,
   "metadata": {},
   "outputs": [],
   "source": [
    "(x_train, y_train), (x_test, y_test) = datasets.mnist.load_data()\n",
    "x_train = x_train/255\n",
    "x_train = np.reshape(x_train, [-1, 784])\n",
    "\n",
    "x_test = x_test/255\n",
    "x_test = np.reshape(x_test, [-1, 784])\n",
    "\n",
    "y_train = utils.np_utils.to_categorical(y_train, 10)\n",
    "\n",
    "y_test  = utils.np_utils.to_categorical(y_test, 10)"
   ]
  },
  {
   "cell_type": "code",
   "execution_count": 3,
   "metadata": {},
   "outputs": [],
   "source": [
    "model = Sequential()\n",
    "model.add(Dense(units=64, activation='relu', input_dim=784))\n",
    "model.add(Dense(units=10, activation='softmax'))"
   ]
  },
  {
   "cell_type": "code",
   "execution_count": 4,
   "metadata": {},
   "outputs": [],
   "source": [
    "model.compile(loss='categorical_crossentropy',\n",
    "                         optimizer='sgd', metrics=['accuracy'])\n",
    "#model.compile(loss=keras.losses.categorical_crossentropy,\n",
    "#                            optimizer=keras.optimizers.SGC(lr=0.01, momentum=0.9, nesterov=True))\n",
    "\n",
    "history = model.fit(x_train, y_train, epochs=5, batch_size=32)\n",
    "\n",
    "#model.train_on_batch(x_batch, y_batch)\n",
    "loss_and_metrics = model.evaluate(x_test, y_test, batch_size=128)\n",
    "classes = model.predict(x_test, batch_size=128)"
   ]
  }
 ],
 "metadata": {
  "kernelspec": {
   "display_name": "Python 3",
   "language": "python",
   "name": "python3"
  },
  "language_info": {
   "codemirror_mode": {
    "name": "ipython",
    "version": 3
   },
   "file_extension": ".py",
   "mimetype": "text/x-python",
   "name": "python",
   "nbconvert_exporter": "python",
   "pygments_lexer": "ipython3",
   "version": "3.6.5"
  }
 },
 "nbformat": 4,
 "nbformat_minor": 2
}
