{
 "cells": [
  {
   "cell_type": "code",
   "execution_count": 1,
   "metadata": {},
   "outputs": [
    {
     "name": "stderr",
     "output_type": "stream",
     "text": [
      "Using TensorFlow backend.\n",
      "Using TensorFlow backend.\n"
     ]
    }
   ],
   "source": [
    "import numpy as np\n",
    "import keras\n",
    "from keras import datasets\n",
    "from keras import utils\n",
    "from keras.models import Sequential\n",
    "from keras.layers import Dense"
   ]
  },
  {
   "cell_type": "code",
   "execution_count": 2,
   "metadata": {
    "scrolled": false
   },
   "outputs": [],
   "source": [
    "(x_train, y_train), (x_test, y_test) = datasets.mnist.load_data()\n",
    "x_train = x_train/255\n",
    "x_train = np.reshape(x_train, [-1, 784])\n",
    "\n",
    "x_test = x_test/255\n",
    "x_test = np.reshape(x_test, [-1, 784])\n",
    "\n",
    "y_train = utils.np_utils.to_categorical(y_train, 10)\n",
    "\n",
    "y_test  = utils.np_utils.to_categorical(y_test, 10)"
   ]
  },
  {
   "cell_type": "code",
   "execution_count": 3,
   "metadata": {},
   "outputs": [],
   "source": [
    "model = Sequential()\n",
    "model.add(Dense(units=64, activation='relu', input_dim=784))\n",
    "model.add(Dense(units=10, activation='softmax'))"
   ]
  },
  {
   "cell_type": "code",
   "execution_count": 4,
   "metadata": {},
   "outputs": [
    {
     "name": "stdout",
     "output_type": "stream",
     "text": [
      "Epoch 1/5\n",
      "Epoch 1/5\n",
      "60000/60000 [==============================] - 4s 61us/step - loss: 0.6809 - acc: 0.8209\n",
      "60000/60000 [==============================] - 4s 61us/step - loss: 0.6809 - acc: 0.8209\n",
      "Epoch 2/5\n",
      "   32/60000 [..............................] - ETA: 8s - loss: 0.5362 - acc: 0.8125Epoch 2/5\n",
      "60000/60000 [==============================] - 3s 50us/step - loss: 0.3450 - acc: 0.9030\n",
      "60000/60000 [==============================] - 3s 50us/step - loss: 0.3450 - acc: 0.9030\n",
      "Epoch 3/5\n",
      "   32/60000 [..............................] - ETA: 10s - loss: 0.3478 - acc: 0.8438Epoch 3/5\n",
      "60000/60000 [==============================] - 3s 54us/step - loss: 0.2962 - acc: 0.9162\n",
      "60000/60000 [==============================] - 3s 54us/step - loss: 0.2962 - acc: 0.9162\n",
      "Epoch 4/5\n",
      "   32/60000 [..............................] - ETA: 8s - loss: 0.1199 - acc: 0.9688Epoch 4/5\n",
      "60000/60000 [==============================] - 3s 52us/step - loss: 0.2668 - acc: 0.9249\n",
      "60000/60000 [==============================] - 3s 52us/step - loss: 0.2668 - acc: 0.9249\n",
      "Epoch 5/5\n",
      "Epoch 5/5\n",
      "60000/60000 [==============================] - 3s 52us/step - loss: 0.2450 - acc: 0.9304\n",
      "60000/60000 [==============================] - 3s 52us/step - loss: 0.2450 - acc: 0.9304\n",
      "10000/10000 [==============================] - 0s 13us/step\n",
      "10000/10000 [==============================] - 0s 13us/step\n"
     ]
    }
   ],
   "source": [
    "model.compile(loss='categorical_crossentropy',\n",
    "                         optimizer='sgd', metrics=['accuracy'])\n",
    "#model.compile(loss=keras.losses.categorical_crossentropy,\n",
    "#                            optimizer=keras.optimizers.SGC(lr=0.01, momentum=0.9, nesterov=True))\n",
    "\n",
    "history = model.fit(x_train, y_train, epochs=5, batch_size=32)\n",
    "\n",
    "#model.train_on_batch(x_batch, y_batch)\n",
    "loss_and_metrics = model.evaluate(x_test, y_test, batch_size=128)\n",
    "classes = model.predict(x_test, batch_size=128)"
   ]
  }
 ],
 "metadata": {
  "kernelspec": {
   "display_name": "Python 3",
   "language": "python",
   "name": "python3"
  },
  "language_info": {
   "codemirror_mode": {
    "name": "ipython",
    "version": 3
   },
   "file_extension": ".py",
   "mimetype": "text/x-python",
   "name": "python",
   "nbconvert_exporter": "python",
   "pygments_lexer": "ipython3",
   "version": "3.6.5"
  }
 },
 "nbformat": 4,
 "nbformat_minor": 2
}
