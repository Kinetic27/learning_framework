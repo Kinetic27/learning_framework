{
 "cells": [
  {
   "cell_type": "code",
   "execution_count": 2,
   "metadata": {},
   "outputs": [],
   "source": [
    "import numpy as np\n",
    "\n",
    "import keras.datasets as kd\n",
    "import keras.layers as kl\n",
    "import keras.models as km\n",
    "import keras.utils as ku\n",
    "import keras.preprocessing as kp\n",
    "\n",
    "np.random.seed(0)"
   ]
  },
  {
   "cell_type": "code",
   "execution_count": null,
   "metadata": {},
   "outputs": [],
   "source": [
    "# mnist data\n",
    "(train_x, train_y), (test_x, test_y) = kd.mnist.load_data()\n",
    "\n",
    "train_x = np.expand_dims(train_x, -1)\n",
    "test_x = np.expand_dims(test_x, -1)\n",
    "\n",
    "train_y = ku.to_categorical(train_y, 10)\n",
    "test_y = ku.to_categorical(test_y, 10)\n",
    "\n",
    "print(\"Train x data's shape : \", train_x.shape)\n",
    "print(\"Train y data's shape : \", train_y.shape)\n",
    "print(\"Test x data's shape : \", test_x.shape)\n",
    "print(\"Test y data's shape : \", test_y.shape)"
   ]
  },
  {
   "cell_type": "code",
   "execution_count": 4,
   "metadata": {},
   "outputs": [
    {
     "name": "stdout",
     "output_type": "stream",
     "text": [
      "_________________________________________________________________\n",
      "Layer (type)                 Output Shape              Param #   \n",
      "=================================================================\n",
      "time_distributed_8 (TimeDist (None, 16, 28, 28, 16)    160       \n",
      "_________________________________________________________________\n",
      "time_distributed_9 (TimeDist (None, 16, 14, 14, 16)    0         \n",
      "_________________________________________________________________\n",
      "time_distributed_10 (TimeDis (None, 16, 14, 14, 32)    4640      \n",
      "_________________________________________________________________\n",
      "time_distributed_11 (TimeDis (None, 16, 32)            0         \n",
      "_________________________________________________________________\n",
      "dropout_2 (Dropout)          (None, 16, 32)            0         \n",
      "_________________________________________________________________\n",
      "lstm_2 (LSTM)                (None, 128)               82432     \n",
      "_________________________________________________________________\n",
      "dense_2 (Dense)              (None, 2)                 258       \n",
      "=================================================================\n",
      "Total params: 87,490\n",
      "Trainable params: 87,490\n",
      "Non-trainable params: 0\n",
      "_________________________________________________________________\n"
     ]
    }
   ],
   "source": [
    "model = km.Sequential()\n",
    "\n",
    "model.add(kl.TimeDistributed(kl.Conv2D(16, (3,3),\n",
    "    padding='same', activation='relu'), input_shape=(16, 28, 28, 1)))\n",
    "\n",
    "model.add(kl.TimeDistributed(kl.MaxPooling2D((2, 2), strides=(2, 2))))\n",
    "\n",
    "model.add(kl.TimeDistributed(kl.Conv2D(32, (3,3),\n",
    "    padding='same', activation='relu')))\n",
    "\n",
    "model.add(kl.TimeDistributed(kl.GlobalAveragePooling2D()))\n",
    "\n",
    "model.add(kl.Dropout(0.5))\n",
    "\n",
    "model.add(kl.LSTM(128, return_sequences=False, dropout=0.5))\n",
    "\n",
    "model.add(kl.Dense(2, activation='softmax'))\n",
    "\n",
    "model.summary()"
   ]
  },
  {
   "cell_type": "code",
   "execution_count": null,
   "metadata": {},
   "outputs": [],
   "source": [
    "model.compile(loss='mse', optimizer='sgd')"
   ]
  },
  {
   "cell_type": "code",
   "execution_count": null,
   "metadata": {},
   "outputs": [],
   "source": [
    "plt.plot(Y_train, 'ro-', label=\"target\")\n",
    "plt.plot(model.predict(X_train[:,:,:]), 'bs-', label=\"output\")\n",
    "#plt.xlim(-0.5, 20.5)\n",
    "#plt.ylim(-1.1, 1.1)\n",
    "plt.legend()\n",
    "plt.title(\"Before training\")\n",
    "plt.show()"
   ]
  },
  {
   "cell_type": "code",
   "execution_count": null,
   "metadata": {},
   "outputs": [],
   "source": [
    "history = model.fit(X_train, Y_train, epochs=100)\n",
    "\n",
    "plt.plot(history.history[\"loss\"])\n",
    "plt.title(\"Loss\")\n",
    "plt.show()"
   ]
  },
  {
   "cell_type": "code",
   "execution_count": null,
   "metadata": {},
   "outputs": [],
   "source": [
    "plt.plot(Y_train, 'ro-', label=\"target\")\n",
    "plt.plot(model.predict(X_train[:,:,:]), 'bs-', label=\"output\")\n",
    "#plt.xlim(-0.5, 20.5)\n",
    "#plt.ylim(-1.1, 1.1)\n",
    "plt.legend()\n",
    "plt.title(\"After training\")\n",
    "plt.show()"
   ]
  }
 ],
 "metadata": {
  "kernelspec": {
   "display_name": "Python 3",
   "language": "python",
   "name": "python3"
  },
  "language_info": {
   "codemirror_mode": {
    "name": "ipython",
    "version": 3
   },
   "file_extension": ".py",
   "mimetype": "text/x-python",
   "name": "python",
   "nbconvert_exporter": "python",
   "pygments_lexer": "ipython3",
   "version": "3.6.5"
  }
 },
 "nbformat": 4,
 "nbformat_minor": 2
}
