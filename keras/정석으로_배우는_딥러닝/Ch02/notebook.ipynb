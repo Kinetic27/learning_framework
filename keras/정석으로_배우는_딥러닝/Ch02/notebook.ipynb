{
 "cells": [
  {
   "cell_type": "markdown",
   "metadata": {},
   "source": [
    "# 2.1 Python2 VS Python3\n",
    "\n",
    "아직 python2 만 지원하는 라이브러리 존재.\n",
    "\n",
    "기존 python2 로 개발한 것을 python3 로 이전하는데 개발 비용 ㅎㄷ..\n",
    "\n",
    "이 책에선 python3."
   ]
  },
  {
   "cell_type": "markdown",
   "metadata": {},
   "source": [
    "# 2.2 아나콘다 배포판\n",
    "\n",
    "주요 라이브러리가 설치된 상태의 파이썬. \n",
    "\n",
    "수치 연산 라이브러리를 망라해서 딥러닝 구현을 효율적으로 진행하는 데 도움을 줌.\n",
    "\n",
    "이 책에서 아나콘다를 사용.\n",
    "\n",
    "**For Mac**\n",
    "``` bash \n",
    "\n",
    "/usr/bin/ruby -e \"$(curl -fsSL https://raw.githubusercontent.com/Homebrew/install/master/install)\"\n",
    "\n",
    "brew install wget\n",
    "\n",
    "brew install pyenv\n",
    "\n",
    "echo 'export PYENV_ROOT=\"${HOME}/.pyenv\"' >> ~/.bash_profile\n",
    "\n",
    "echo 'export PATH=\"${PYENV_ROOT}bin:$PATH\"' >> ~/.bash_profile\n",
    "\n",
    "echo 'eval \"$(pyenv init -)\"' >> ~/.bash_profile\n",
    "\n",
    "exec $SHELL\n",
    "\n",
    "\n",
    "pyenv install --list\n",
    "\n",
    "pyenv install <버전 이름>\n",
    "\n",
    "# system  과 <버전 이름> 두 환경이 존재.\n",
    "pyenv versions\n",
    "\n",
    "# <버전 이름>으로 default version 변경.\n",
    "pyenv global <버전 이름>\n",
    "\n",
    "pyenv versions\n",
    "\n",
    "\n",
    "# tmp 폴더 에선 system 이라는 버전으로 사용.\n",
    "\n",
    "mkdir tmp\n",
    "\n",
    "cd tmp\n",
    "\n",
    "pyenv local system\n",
    "```"
   ]
  },
  {
   "cell_type": "markdown",
   "metadata": {},
   "source": [
    "# 2.3 파이썬 기초\n",
    "\n",
    "\n",
    "## 2.3.1 파이썬 실행\n",
    "\n",
    "## 2.3.2 데이터형\n",
    "    - 문자열\n",
    "    - 숫자형\n",
    "    - 부울형\n",
    "    \n",
    "## 2.3.3 변수\n",
    "\n",
    "## 2.3.4 데이터 구조\n",
    "    - 리스트\n",
    "    - 딕셔너리\n",
    "    \n",
    "## 2.3.5 연산\n",
    "    - 연산자와 피연산자 ( '+' : 연산자, '1' : 왼쪽 피연산자, '2': 오른쪽 피연산자)\n",
    "    - 산술 연산자 ('+', '-', '*', '/',  '**', '%', '//')\n",
    "    - 대입 연산자 ('=')\n",
    "\n",
    "## 2.3.6 기본 구문\n",
    "    - if\n",
    "    - while\n",
    "    - for\n",
    "\n",
    "## 2.3.7 함수\n",
    "    - def 함수명(인자)\n",
    "\n",
    "## 2.3.8 클래스\n",
    "    - \n",
    "    \n",
    "## 2.3.9 라이브러리"
   ]
  },
  {
   "cell_type": "markdown",
   "metadata": {},
   "source": [
    "# 2.4 NumPy\n",
    "\n",
    "## 2.4.1 NumPy 배열\n",
    "\n",
    "## 2.4.2 NumPy로 벡터, 행렬 계산\n",
    "\n",
    "## 2.4.3 배열과 다차원 배열 생성\n",
    "\n",
    "## 2.4.4 슬라이스\n",
    "\n",
    "## 2.4.5 브로드캐스트"
   ]
  },
  {
   "cell_type": "markdown",
   "metadata": {},
   "source": [
    "# 2.5 딥러닝을 위한 라이브러리\n",
    "\n",
    "## 2.5.1 TensorFlow\n",
    "    - 직관적\n",
    "    - 복잡하지 않음(?)\n",
    "    - 데이터 가공 메소드 존재\n",
    "    \n",
    "## 2.5.2 Keras\n",
    "    - 편리\n",
    "## 2.5.3 Theano\n",
    "    - 실행속도 빠름\n",
    "    - 자동 미분 기능"
   ]
  }
 ],
 "metadata": {
  "kernelspec": {
   "display_name": "Python 3",
   "language": "python",
   "name": "python3"
  },
  "language_info": {
   "codemirror_mode": {
    "name": "ipython",
    "version": 3
   },
   "file_extension": ".py",
   "mimetype": "text/x-python",
   "name": "python",
   "nbconvert_exporter": "python",
   "pygments_lexer": "ipython3",
   "version": "3.6.5"
  }
 },
 "nbformat": 4,
 "nbformat_minor": 2
}
