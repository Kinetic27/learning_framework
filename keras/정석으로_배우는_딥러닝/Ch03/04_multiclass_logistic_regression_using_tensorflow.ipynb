{
 "cells": [
  {
   "cell_type": "code",
   "execution_count": 1,
   "metadata": {},
   "outputs": [],
   "source": [
    "# Package Loaded\n",
    "import numpy as np\n",
    "import tensorflow as tf\n",
    "from sklearn.utils import shuffle\n",
    "from matplotlib import pyplot as plt\n",
    "tf.set_random_seed(0)"
   ]
  },
  {
   "cell_type": "code",
   "execution_count": 2,
   "metadata": {},
   "outputs": [],
   "source": [
    "n_dim = 2\n",
    "n_class = 3\n",
    "n_feature = 100\n",
    "n_data = n_feature * n_class"
   ]
  },
  {
   "cell_type": "code",
   "execution_count": 4,
   "metadata": {},
   "outputs": [],
   "source": [
    "X1 = np.random.randn(n_feature, n_dim) + np.array([0, 10])\n",
    "X2 = np.random.randn(n_feature, n_dim) + np.array([5, 5])\n",
    "X3 = np.random.randn(n_feature, n_dim) + np.array([10, 0])\n",
    "\n",
    "Y1 = np.array([[1, 0, 0] for i in range(n_feature)])\n",
    "Y2 = np.array([[0, 1, 0] for i in range(n_feature)])\n",
    "Y3 = np.array([[0, 0, 1] for i in range(n_feature)])\n",
    "\n",
    "X = np.concatenate((X1, X2, X3), axis = 0)\n",
    "Y = np.concatenate((Y1, Y2, Y3), axis = 0)"
   ]
  },
  {
   "cell_type": "code",
   "execution_count": 10,
   "metadata": {},
   "outputs": [
    {
     "data": {
      "image/png": "[encoded data removed]",
      "text/plain": [
       "<Figure size 432x288 with 1 Axes>"
      ]
     },
     "metadata": {},
     "output_type": "display_data"
    }
   ],
   "source": [
    "plt.plot(X1[:,0], X1[:,1], 'ro')\n",
    "plt.plot(X2[:,0], X2[:,1], 'bx')\n",
    "plt.plot(X3[:,0], X3[:,1], 'y^')\n",
    "plt.legend(['X1', 'X2', 'X3'], loc=1)\n",
    "plt.show()"
   ]
  },
  {
   "cell_type": "code",
   "execution_count": 5,
   "metadata": {},
   "outputs": [],
   "source": [
    "w = tf.Variable(tf.zeros([n_dim, n_class]))\n",
    "b = tf.Variable(tf.zeros([n_class]))\n",
    "\n",
    "x = tf.placeholder(tf.float32, shape=[None, n_dim])\n",
    "t = tf.placeholder(tf.float32, shape=[None, n_class])\n",
    "y = tf.nn.softmax(tf.matmul(x, w) + b)"
   ]
  },
  {
   "cell_type": "code",
   "execution_count": 7,
   "metadata": {},
   "outputs": [],
   "source": [
    "cross_entropy = tf.reduce_mean(-tf.reduce_sum(t*tf.log(y), reduction_indices=[1]))"
   ]
  },
  {
   "cell_type": "code",
   "execution_count": 11,
   "metadata": {},
   "outputs": [],
   "source": [
    "train_step = tf.train.GradientDescentOptimizer(0.1).minimize(cross_entropy)"
   ]
  },
  {
   "cell_type": "code",
   "execution_count": 12,
   "metadata": {},
   "outputs": [],
   "source": [
    "correct_prediction = tf.equal(tf.argmax(y, 1), tf.argmax(t, 1))"
   ]
  },
  {
   "cell_type": "code",
   "execution_count": 13,
   "metadata": {},
   "outputs": [],
   "source": [
    "init = tf.global_variables_initializer()\n",
    "sess = tf.Session()\n",
    "sess.run(init)"
   ]
  },
  {
   "cell_type": "code",
   "execution_count": 14,
   "metadata": {},
   "outputs": [],
   "source": [
    "batch_size = 50\n",
    "n_batchs = n_data // batch_size\n",
    "\n",
    "for epoch in range(20):\n",
    "    X_, Y_ = shuffle(X, Y)\n",
    "    for i in range(n_batchs):\n",
    "        start = i * batch_size\n",
    "        end = start + batch_size\n",
    "        \n",
    "        sess.run(train_step, feed_dict={x:X_[start:end], t:Y_[start:end]})"
   ]
  },
  {
   "cell_type": "code",
   "execution_count": 15,
   "metadata": {},
   "outputs": [
    {
     "name": "stdout",
     "output_type": "stream",
     "text": [
      "classified : \n",
      "[ True  True  True  True  True  True  True  True  True  True]\n",
      "\n",
      "-------------------------------------------------------\n",
      "\n",
      "probability : \n",
      "[[7.0592627e-08 4.2801123e-02 9.5719880e-01]\n",
      " [9.9512768e-01 4.8722513e-03 9.4892305e-10]\n",
      " [1.2843535e-02 9.8611313e-01 1.0432965e-03]\n",
      " [3.1714906e-10 2.2009790e-03 9.9779898e-01]\n",
      " [9.8349702e-01 1.6503021e-02 3.6586599e-08]\n",
      " [9.3706340e-09 1.4945448e-02 9.8505449e-01]\n",
      " [4.8116393e-02 9.5112050e-01 7.6310511e-04]\n",
      " [3.9867674e-09 2.5456741e-03 9.9745435e-01]\n",
      " [9.9917489e-01 8.2511676e-04 5.2490307e-11]\n",
      " [7.8127068e-01 2.1872592e-01 3.3919857e-06]]\n"
     ]
    }
   ],
   "source": [
    "X_, Y_ = shuffle(X, Y)\n",
    "classified = correct_prediction.eval(session=sess, feed_dict={x:X_[0:10], t:Y_[0:10]})\n",
    "prob = y.eval(session=sess, feed_dict={x:X_[0:10]})\n",
    "\n",
    "print('classified : ')\n",
    "print(classified)\n",
    "print('\\n-------------------------------------------------------\\n')\n",
    "print('probability : ')\n",
    "print(prob)"
   ]
  },
  {
   "cell_type": "code",
   "execution_count": 16,
   "metadata": {},
   "outputs": [
    {
     "name": "stdout",
     "output_type": "stream",
     "text": [
      "w :  [[-1.0941135   0.2873642   0.8067494 ]\n",
      " [ 0.7920673   0.29516825 -1.087236  ]]\n",
      "b :  [-0.03990704  0.09363411 -0.05372709]\n"
     ]
    }
   ],
   "source": [
    "print(\"w : \", sess.run(w))\n",
    "print(\"b : \", sess.run(b))"
   ]
  }
 ],
 "metadata": {
  "kernelspec": {
   "display_name": "Python 3",
   "language": "python",
   "name": "python3"
  },
  "language_info": {
   "codemirror_mode": {
    "name": "ipython",
    "version": 3
   },
   "file_extension": ".py",
   "mimetype": "text/x-python",
   "name": "python",
   "nbconvert_exporter": "python",
   "pygments_lexer": "ipython3",
   "version": "3.6.5"
  }
 },
 "nbformat": 4,
 "nbformat_minor": 2
}
