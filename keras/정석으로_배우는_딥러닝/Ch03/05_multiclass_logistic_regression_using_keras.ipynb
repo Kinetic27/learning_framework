{
 "cells": [
  {
   "cell_type": "code",
   "execution_count": 1,
   "metadata": {},
   "outputs": [
    {
     "name": "stderr",
     "output_type": "stream",
     "text": [
      "Using TensorFlow backend.\n"
     ]
    }
   ],
   "source": [
    "# Package Loaded\n",
    "import numpy as np\n",
    "from keras.models import Sequential\n",
    "from keras.layers import Dense, Activation\n",
    "from keras.optimizers import SGD\n",
    "from sklearn.utils import shuffle\n",
    "from matplotlib import pyplot as plt"
   ]
  },
  {
   "cell_type": "code",
   "execution_count": 2,
   "metadata": {},
   "outputs": [],
   "source": [
    "n_feature = 2\n",
    "n_class = 3\n",
    "n_data_per_class = 100\n",
    "n_data = n_data_per_class * n_class"
   ]
  },
  {
   "cell_type": "code",
   "execution_count": 3,
   "metadata": {},
   "outputs": [],
   "source": [
    "X1 = np.random.randn(n_data_per_class, n_feature) + np.array([0, 10])\n",
    "X2 = np.random.randn(n_data_per_class, n_feature) + np.array([5, 5])\n",
    "X3 = np.random.randn(n_data_per_class, n_feature) + np.array([10, 0])\n",
    "\n",
    "Y1 = np.array([[1, 0, 0] for i in range(n_data_per_class)])\n",
    "Y2 = np.array([[0, 1, 0] for i in range(n_data_per_class)])\n",
    "Y3 = np.array([[0, 0, 1] for i in range(n_data_per_class)])\n",
    "\n",
    "X = np.concatenate((X1, X2, X3), axis = 0)\n",
    "Y = np.concatenate((Y1, Y2, Y3), axis = 0)"
   ]
  },
  {
   "cell_type": "code",
   "execution_count": 4,
   "metadata": {},
   "outputs": [
    {
     "data": {
      "image/png": "[encoded data removed]",
      "text/plain": [
       "<Figure size 432x288 with 1 Axes>"
      ]
     },
     "metadata": {},
     "output_type": "display_data"
    }
   ],
   "source": [
    "plt.plot(X1[:,0], X1[:,1], 'ro')\n",
    "plt.plot(X2[:,0], X2[:,1], 'bx')\n",
    "plt.plot(X3[:,0], X3[:,1], 'y^')\n",
    "plt.legend(['X1', 'X2', 'X3'], loc=1)\n",
    "plt.show()"
   ]
  },
  {
   "cell_type": "code",
   "execution_count": 5,
   "metadata": {
    "scrolled": true
   },
   "outputs": [
    {
     "name": "stdout",
     "output_type": "stream",
     "text": [
      "Epoch 1/20\n",
      "300/300 [==============================] - 0s 437us/step - loss: 1.9001\n",
      "Epoch 2/20\n",
      "300/300 [==============================] - 0s 33us/step - loss: 0.1611\n",
      "Epoch 3/20\n",
      "300/300 [==============================] - 0s 33us/step - loss: 0.1191\n",
      "Epoch 4/20\n",
      "300/300 [==============================] - 0s 38us/step - loss: 0.0976\n",
      "Epoch 5/20\n",
      "300/300 [==============================] - 0s 43us/step - loss: 0.0821\n",
      "Epoch 6/20\n",
      "300/300 [==============================] - 0s 42us/step - loss: 0.0720\n",
      "Epoch 7/20\n",
      "300/300 [==============================] - 0s 35us/step - loss: 0.0636\n",
      "Epoch 8/20\n",
      "300/300 [==============================] - 0s 35us/step - loss: 0.0572\n",
      "Epoch 9/20\n",
      "300/300 [==============================] - 0s 36us/step - loss: 0.0533\n",
      "Epoch 10/20\n",
      "300/300 [==============================] - 0s 41us/step - loss: 0.0489\n",
      "Epoch 11/20\n",
      "300/300 [==============================] - 0s 32us/step - loss: 0.0447\n",
      "Epoch 12/20\n",
      "300/300 [==============================] - 0s 33us/step - loss: 0.0421\n",
      "Epoch 13/20\n",
      "300/300 [==============================] - 0s 34us/step - loss: 0.0394\n",
      "Epoch 14/20\n",
      "300/300 [==============================] - 0s 34us/step - loss: 0.0372\n",
      "Epoch 15/20\n",
      "300/300 [==============================] - 0s 32us/step - loss: 0.0352\n",
      "Epoch 16/20\n",
      "300/300 [==============================] - 0s 39us/step - loss: 0.0334\n",
      "Epoch 17/20\n",
      "300/300 [==============================] - 0s 34us/step - loss: 0.0319\n",
      "Epoch 18/20\n",
      "300/300 [==============================] - 0s 35us/step - loss: 0.0307\n",
      "Epoch 19/20\n",
      "300/300 [==============================] - 0s 35us/step - loss: 0.0296\n",
      "Epoch 20/20\n",
      "300/300 [==============================] - 0s 32us/step - loss: 0.0283\n"
     ]
    }
   ],
   "source": [
    "model = Sequential()\n",
    "model.add(Dense(input_dim=n_feature, units=n_class))\n",
    "model.add(Activation('softmax'))\n",
    "model.compile(loss='categorical_crossentropy', optimizer=SGD(lr=0.1))\n",
    "minibatch_size = 50\n",
    "history=model.fit(X, Y, epochs=20, batch_size=minibatch_size)"
   ]
  },
  {
   "cell_type": "code",
   "execution_count": 6,
   "metadata": {},
   "outputs": [
    {
     "name": "stdout",
     "output_type": "stream",
     "text": [
      "classified : \n",
      "[ True  True  True  True  True  True  True  True  True  True]\n",
      "\n",
      "-------------------------------------------------------\n",
      "\n",
      "probability : \n",
      "[[2.50940789e-02 9.67253864e-01 7.65207084e-03]\n",
      " [2.44779997e-02 9.63816762e-01 1.17053045e-02]\n",
      " [3.99652906e-02 9.56421971e-01 3.61271854e-03]\n",
      " [1.06767041e-03 9.30553854e-01 6.83784932e-02]\n",
      " [9.97490644e-01 2.50932830e-03 8.13302967e-11]\n",
      " [3.39437922e-09 5.58856502e-03 9.94411409e-01]\n",
      " [1.06324134e-02 9.83124733e-01 6.24290807e-03]\n",
      " [1.36825055e-01 8.61424327e-01 1.75059540e-03]\n",
      " [9.92559671e-01 7.44033977e-03 9.44146983e-09]\n",
      " [9.19292629e-01 8.07072073e-02 7.61266250e-08]]\n"
     ]
    }
   ],
   "source": [
    "X_, Y_ = shuffle(X, Y)\n",
    "classes = model.predict_classes(X_[0:10], batch_size=minibatch_size)\n",
    "prob = model.predict_proba(X_[0:10], batch_size=minibatch_size)\n",
    "\n",
    "print('classified : ')\n",
    "print(np.argmax(model.predict(X_[0:10]), axis = 1) == classes)\n",
    "print('\\n-------------------------------------------------------\\n')\n",
    "print('probability : ')\n",
    "print(prob)"
   ]
  }
 ],
 "metadata": {
  "kernelspec": {
   "display_name": "Python 3",
   "language": "python",
   "name": "python3"
  },
  "language_info": {
   "codemirror_mode": {
    "name": "ipython",
    "version": 3
   },
   "file_extension": ".py",
   "mimetype": "text/x-python",
   "name": "python",
   "nbconvert_exporter": "python",
   "pygments_lexer": "ipython3",
   "version": "3.6.5"
  }
 },
 "nbformat": 4,
 "nbformat_minor": 2
}
