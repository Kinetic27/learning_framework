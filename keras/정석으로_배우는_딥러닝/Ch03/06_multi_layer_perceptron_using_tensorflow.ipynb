{
 "cells": [
  {
   "cell_type": "code",
   "execution_count": 1,
   "metadata": {},
   "outputs": [],
   "source": [
    "# Package Loaded\n",
    "import numpy as np\n",
    "import tensorflow as tf\n",
    "from sklearn.utils import shuffle\n",
    "from matplotlib import pyplot as plt\n",
    "tf.set_random_seed(0)"
   ]
  },
  {
   "cell_type": "code",
   "execution_count": 2,
   "metadata": {},
   "outputs": [],
   "source": [
    "X = np.array([[0, 0], [0, 1], [1, 0], [1, 1]])\n",
    "Y = np.array([[0], [1], [1], [0]])"
   ]
  },
  {
   "cell_type": "code",
   "execution_count": 3,
   "metadata": {},
   "outputs": [],
   "source": [
    "w1 = tf.Variable(tf.truncated_normal([2,2]))\n",
    "b1 = tf.Variable(tf.zeros([2]))\n",
    "\n",
    "x = tf.placeholder(tf.float32, shape=[None, 2])\n",
    "t = tf.placeholder(tf.float32, shape=[None, 1])\n",
    "h = tf.nn.sigmoid(tf.matmul(x, w1) + b1)\n",
    "\n",
    "w2 = tf.Variable(tf.truncated_normal([2,1]))\n",
    "b2 = tf.Variable(tf.zeros([1]))\n",
    "y = tf.nn.sigmoid(tf.matmul(h, w2)+b2)"
   ]
  },
  {
   "cell_type": "code",
   "execution_count": 4,
   "metadata": {},
   "outputs": [],
   "source": [
    "cross_entropy = -tf.reduce_sum(t * tf.log(y) + (1 - t) * tf.log(1 - y))"
   ]
  },
  {
   "cell_type": "code",
   "execution_count": 6,
   "metadata": {},
   "outputs": [],
   "source": [
    "train_step = tf.train.GradientDescentOptimizer(0.1).minimize(cross_entropy)"
   ]
  },
  {
   "cell_type": "code",
   "execution_count": 5,
   "metadata": {},
   "outputs": [],
   "source": [
    "correct_prediction = tf.equal(tf.to_float(tf.greater(y, 0.5)), t)"
   ]
  },
  {
   "cell_type": "code",
   "execution_count": 7,
   "metadata": {},
   "outputs": [],
   "source": [
    "init = tf.global_variables_initializer()\n",
    "sess = tf.Session()\n",
    "sess.run(init)"
   ]
  },
  {
   "cell_type": "code",
   "execution_count": 8,
   "metadata": {},
   "outputs": [],
   "source": [
    "for epoch in range(4000):\n",
    "    sess.run(train_step, feed_dict={x:X, t:Y})\n",
    "    if epoch % 1000 == 0:\n",
    "        print('epoch : ', epoch)"
   ]
  },
  {
   "cell_type": "code",
   "execution_count": 9,
   "metadata": {},
   "outputs": [
    {
     "name": "stdout",
     "output_type": "stream",
     "text": [
      "classified : \n",
      "[[ True]\n",
      " [ True]\n",
      " [ True]\n",
      " [ True]]\n",
      "\n",
      "-------------------------------------------------------\n",
      "\n",
      "probability : \n",
      "[[0.00766011]\n",
      " [0.99296427]\n",
      " [0.9897115 ]\n",
      " [0.00650949]]\n"
     ]
    }
   ],
   "source": [
    "\n",
    "classified = correct_prediction.eval(session=sess, feed_dict={x:X, t:Y})\n",
    "prob = y.eval(session=sess, feed_dict={x:X})\n",
    "\n",
    "print('classified : ')\n",
    "print(classified)\n",
    "print('\\n-------------------------------------------------------\\n')\n",
    "print('probability : ')\n",
    "print(prob)"
   ]
  },
  {
   "cell_type": "code",
   "execution_count": 11,
   "metadata": {},
   "outputs": [
    {
     "name": "stdout",
     "output_type": "stream",
     "text": [
      "w1 :  [[-6.464291  -6.4496737]\n",
      " [ 6.205947   6.667527 ]]\n",
      "b1 :  [-3.308152   3.2352097]\n",
      "w2 :  [[ 11.1963005]\n",
      " [-10.638659 ]]\n",
      "b2 :  [4.976672]\n"
     ]
    }
   ],
   "source": [
    "print(\"w1 : \", sess.run(w1))\n",
    "print(\"b1 : \", sess.run(b1))\n",
    "print(\"w2 : \", sess.run(w2))\n",
    "print(\"b2 : \", sess.run(b2))"
   ]
  }
 ],
 "metadata": {
  "kernelspec": {
   "display_name": "Python 3",
   "language": "python",
   "name": "python3"
  },
  "language_info": {
   "codemirror_mode": {
    "name": "ipython",
    "version": 3
   },
   "file_extension": ".py",
   "mimetype": "text/x-python",
   "name": "python",
   "nbconvert_exporter": "python",
   "pygments_lexer": "ipython3",
   "version": "3.6.5"
  }
 },
 "nbformat": 4,
 "nbformat_minor": 2
}
