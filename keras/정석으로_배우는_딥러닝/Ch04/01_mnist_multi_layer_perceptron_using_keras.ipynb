{
 "cells": [
  {
   "cell_type": "code",
   "execution_count": 1,
   "metadata": {},
   "outputs": [
    {
     "name": "stderr",
     "output_type": "stream",
     "text": [
      "Using TensorFlow backend.\n"
     ]
    }
   ],
   "source": [
    "import numpy as np\n",
    "from sklearn import datasets\n",
    "from sklearn.model_selection import train_test_split\n",
    "from keras import Sequential\n",
    "from keras.layers import Dense, Activation\n",
    "from keras.optimizers import SGD\n",
    "from keras.datasets import mnist\n",
    "from keras.utils import  to_categorical as to_category\n",
    "from matplotlib import pyplot as plt\n",
    "np.random.seed(0)"
   ]
  },
  {
   "cell_type": "code",
   "execution_count": 2,
   "metadata": {},
   "outputs": [],
   "source": [
    "(X_train, Y_train), (X_test, Y_test) = mnist.load_data()"
   ]
  },
  {
   "cell_type": "code",
   "execution_count": 3,
   "metadata": {},
   "outputs": [],
   "source": [
    "X_train = X_train.reshape([-1, 784])\n",
    "X_test = X_test.reshape([-1, 784])\n",
    "Y_train = to_category(Y_train, 10)\n",
    "Y_test = to_category(Y_test, 10)"
   ]
  },
  {
   "cell_type": "code",
   "execution_count": 4,
   "metadata": {},
   "outputs": [
    {
     "name": "stdout",
     "output_type": "stream",
     "text": [
      "Epoch 1/5\n",
      "60000/60000 [==============================] - 13s 221us/step - loss: 0.5427 - acc: 0.8567\n",
      "Epoch 2/5\n",
      "60000/60000 [==============================] - 12s 196us/step - loss: 0.3712 - acc: 0.8971\n",
      "Epoch 3/5\n",
      "60000/60000 [==============================] - 14s 229us/step - loss: 0.3468 - acc: 0.9027\n",
      "Epoch 4/5\n",
      "60000/60000 [==============================] - 17s 276us/step - loss: 0.3261 - acc: 0.9070\n",
      "Epoch 5/5\n",
      "60000/60000 [==============================] - 18s 294us/step - loss: 0.3097 - acc: 0.9095\n"
     ]
    }
   ],
   "source": [
    "model = Sequential()\n",
    "\n",
    "# layer 1\n",
    "model.add(Dense(200, input_dim=784))\n",
    "model.add(Activation('sigmoid'))\n",
    "\n",
    "#layer 2\n",
    "model.add(Dense(10))\n",
    "model.add(Activation('softmax'))\n",
    "\n",
    "model.compile(loss = 'categorical_crossentropy', optimizer=SGD(lr=0.01), metrics=['accuracy'])\n",
    "\n",
    "history = model.fit(X_train, Y_train, epochs = 5, batch_size=10)"
   ]
  },
  {
   "cell_type": "code",
   "execution_count": 5,
   "metadata": {},
   "outputs": [
    {
     "name": "stdout",
     "output_type": "stream",
     "text": [
      "10000/10000 [==============================] - 0s 30us/step\n",
      "[0.3200196867704391, 0.9066]\n"
     ]
    }
   ],
   "source": [
    "loss_and_metrics = model.evaluate(X_test, Y_test)\n",
    "print(loss_and_metrics)"
   ]
  }
 ],
 "metadata": {
  "kernelspec": {
   "display_name": "Python 3",
   "language": "python",
   "name": "python3"
  },
  "language_info": {
   "codemirror_mode": {
    "name": "ipython",
    "version": 3
   },
   "file_extension": ".py",
   "mimetype": "text/x-python",
   "name": "python",
   "nbconvert_exporter": "python",
   "pygments_lexer": "ipython3",
   "version": "3.6.5"
  }
 },
 "nbformat": 4,
 "nbformat_minor": 2
}
