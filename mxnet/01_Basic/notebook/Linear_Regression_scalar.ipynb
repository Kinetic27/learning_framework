{
 "cells": [
  {
   "cell_type": "code",
   "execution_count": null,
   "metadata": {},
   "outputs": [],
   "source": [
    "import mxnet as mx\n",
    "import numpy as np\n",
    "from matplotlib import pyplot as plt\n",
    "import logging"
   ]
  },
  {
   "cell_type": "code",
   "execution_count": null,
   "metadata": {},
   "outputs": [],
   "source": [
    "mx.random.seed(42)\n",
    "\n",
    "x = np.random.normal(0.0, 0.55, (10000, 1))\n",
    "y = x * 0.1 + 0.3 + np.random.normal(0.0, 0.03, (10000,1))\n",
    "\n",
    "# Set the compute machine\n",
    "ctx = mx.gpu() if mx.test_utils.list_gpus() else mx.cpu()\n",
    "                     \n",
    "plt.plot(x, y, 'r.')\n",
    "plt.show()\n",
    "\n"
   ]
  },
  {
   "cell_type": "code",
   "execution_count": null,
   "metadata": {},
   "outputs": [],
   "source": [
    "\n",
    "batch_size = 100\n",
    "\n",
    "X = mx.sym.Variable('data')\n",
    "Y = mx.symbol.Variable('lin_reg_label')\n",
    "fully_connected_layer  = mx.sym.FullyConnected(data=X, name='fc1', num_hidden = 1)\n",
    "lro = mx.sym.LinearRegressionOutput(data=fully_connected_layer, label=Y, name=\"lro\")\n",
    "\n",
    "train_iter = mx.io.NDArrayIter(x, y, batch_size, shuffle=True, label_name='lin_reg_label')\n",
    "logging.getLogger().setLevel(logging.DEBUG)  # logging to stdout\n",
    "# create a trainable module on compute context"
   ]
  },
  {
   "cell_type": "code",
   "execution_count": null,
   "metadata": {},
   "outputs": [],
   "source": [
    "model = mx.mod.Module(\n",
    "    symbol = lro ,\n",
    "    data_names=['data'],\n",
    "    label_names = ['lin_reg_label']# network structure\n",
    ")"
   ]
  },
  {
   "cell_type": "code",
   "execution_count": null,
   "metadata": {},
   "outputs": [],
   "source": [
    "model.fit(train_iter,  # train data\n",
    "    optimizer='sgd',  # use SGD to train\n",
    "    optimizer_params={'learning_rate':0.1},  # use fixed learning rate\n",
    "    eval_metric='mse',  # report accuracy during training\n",
    "    batch_end_callback = mx.callback.Speedometer(batch_size, 100), # output progress for each 100 data batches\n",
    "    num_epoch=10)  # train for at most 10 dataset passes"
   ]
  }
 ],
 "metadata": {
  "kernelspec": {
   "display_name": "Python 3",
   "language": "python",
   "name": "python3"
  },
  "language_info": {
   "codemirror_mode": {
    "name": "ipython",
    "version": 3
   },
   "file_extension": ".py",
   "mimetype": "text/x-python",
   "name": "python",
   "nbconvert_exporter": "python",
   "pygments_lexer": "ipython3",
   "version": "3.6.6"
  }
 },
 "nbformat": 4,
 "nbformat_minor": 2
}
