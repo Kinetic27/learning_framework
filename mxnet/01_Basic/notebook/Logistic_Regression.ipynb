{
 "cells": [
  {
   "cell_type": "markdown",
   "metadata": {},
   "source": [
    "# Importing Module"
   ]
  },
  {
   "cell_type": "code",
   "execution_count": 1,
   "metadata": {},
   "outputs": [],
   "source": [
    "import torch\n",
    "from torch import nn\n",
    "from torch import optim\n",
    "from torch.nn import functional as F\n",
    "from torch.utils.data import DataLoader\n",
    "\n",
    "from torchvision import datasets\n",
    "from torchvision import transforms\n",
    "\n",
    "import os\n",
    "import numpy as np\n",
    "from matplotlib import pyplot as plt"
   ]
  },
  {
   "cell_type": "markdown",
   "metadata": {},
   "source": [
    "# Loading Data"
   ]
  },
  {
   "cell_type": "code",
   "execution_count": null,
   "metadata": {},
   "outputs": [],
   "source": [
    "def find_data_dir():\n",
    "    data_path = 'data'\n",
    "    while os.path.exists(data_path) != True:\n",
    "        data_path = '../' + data_path\n",
    "        \n",
    "    return data_path"
   ]
  },
  {
   "cell_type": "code",
   "execution_count": 2,
   "metadata": {},
   "outputs": [
    {
     "name": "stdout",
     "output_type": "stream",
     "text": [
      "Downloading Train Data Done ! \n",
      "Downloading Test Data Done ! \n"
     ]
    }
   ],
   "source": [
    "# MNIST dataset\n",
    "mnist_train = datasets.MNIST(root=find_data_dir(),\n",
    "                          train=True,\n",
    "                          transform=transforms.ToTensor(),\n",
    "                          download=True)\n",
    "print(\"Downloading Train Data Done ! \")\n",
    "\n",
    "mnist_test = datasets.MNIST(root=find_data_dir(),\n",
    "                         train=False,\n",
    "                         transform=transforms.ToTensor(),\n",
    "                         download=True)\n",
    "print(\"Downloading Test Data Done ! \")"
   ]
  },
  {
   "cell_type": "markdown",
   "metadata": {},
   "source": [
    "# Defining Model"
   ]
  },
  {
   "cell_type": "code",
   "execution_count": 3,
   "metadata": {},
   "outputs": [],
   "source": [
    "device = torch.device('cuda' if torch.cuda.is_available() else 'cpu')\n",
    "\n",
    "# our model\n",
    "class Model(nn.Module):\n",
    "    def __init__(self):\n",
    "        super(Model, self).__init__()\n",
    "        self.linear = nn.Linear(784,10)\n",
    "\n",
    "    def forward(self, X):\n",
    "        X = self.linear(X)\n",
    "        return X\n",
    "\n",
    "model = Model().to(device)\n",
    "\n",
    "criterion  = nn.CrossEntropyLoss()\n",
    "optimizer = optim.SGD(model.parameters(), lr=0.01)"
   ]
  },
  {
   "cell_type": "markdown",
   "metadata": {},
   "source": [
    "# Training Phase"
   ]
  },
  {
   "cell_type": "code",
   "execution_count": 5,
   "metadata": {},
   "outputs": [
    {
     "name": "stdout",
     "output_type": "stream",
     "text": [
      "Iteration maker Done !\n",
      "Epoch :  1 Iteration :  100  Loss :  1.8753654479980468\n",
      "Epoch :  1 Iteration :  200  Loss :  1.6188168334960937\n",
      "Epoch :  1 Iteration :  300  Loss :  1.4419246419270833\n",
      "Epoch :  1 Iteration :  400  Loss :  1.3137496948242187\n",
      "Epoch :  1 Iteration :  500  Loss :  1.217789794921875\n",
      "Epoch :  1 Iteration :  600  Loss :  1.1440359497070312\n",
      "Epoch :  1  Loss :  1.1440359497070312\n",
      "Epoch :  2 Iteration :  100  Loss :  0.714104995727539\n",
      "Epoch :  2 Iteration :  200  Loss :  0.6956639099121094\n",
      "Epoch :  2 Iteration :  300  Loss :  0.6832886250813802\n",
      "Epoch :  2 Iteration :  400  Loss :  0.6677839660644531\n",
      "Epoch :  2 Iteration :  500  Loss :  0.6529122314453125\n",
      "Epoch :  2 Iteration :  600  Loss :  0.6424672444661458\n",
      "Epoch :  2  Loss :  0.6424672444661458\n",
      "Epoch :  3 Iteration :  100  Loss :  0.5692731094360352\n",
      "Epoch :  3 Iteration :  200  Loss :  0.5606502151489258\n",
      "Epoch :  3 Iteration :  300  Loss :  0.5521703084309896\n",
      "Epoch :  3 Iteration :  400  Loss :  0.5453160858154297\n",
      "Epoch :  3 Iteration :  500  Loss :  0.540334228515625\n",
      "Epoch :  3 Iteration :  600  Loss :  0.5360386149088542\n",
      "Epoch :  3  Loss :  0.5360386149088542\n",
      "Epoch :  4 Iteration :  100  Loss :  0.4975423812866211\n",
      "Epoch :  4 Iteration :  200  Loss :  0.5019452667236328\n",
      "Epoch :  4 Iteration :  300  Loss :  0.49692667643229166\n",
      "Epoch :  4 Iteration :  400  Loss :  0.4933230972290039\n",
      "Epoch :  4 Iteration :  500  Loss :  0.4862035217285156\n",
      "Epoch :  4 Iteration :  600  Loss :  0.48476430257161457\n",
      "Epoch :  4  Loss :  0.48476430257161457\n",
      "Epoch :  5 Iteration :  100  Loss :  0.4699552536010742\n",
      "Epoch :  5 Iteration :  200  Loss :  0.4623774719238281\n",
      "Epoch :  5 Iteration :  300  Loss :  0.4590208943684896\n",
      "Epoch :  5 Iteration :  400  Loss :  0.45455562591552734\n",
      "Epoch :  5 Iteration :  500  Loss :  0.454247314453125\n",
      "Epoch :  5 Iteration :  600  Loss :  0.4533049011230469\n",
      "Epoch :  5  Loss :  0.4533049011230469\n",
      "Epoch :  6 Iteration :  100  Loss :  0.4387566375732422\n",
      "Epoch :  6 Iteration :  200  Loss :  0.43584285736083983\n",
      "Epoch :  6 Iteration :  300  Loss :  0.4373649088541667\n",
      "Epoch :  6 Iteration :  400  Loss :  0.43479724884033205\n",
      "Epoch :  6 Iteration :  500  Loss :  0.43431948852539065\n",
      "Epoch :  6 Iteration :  600  Loss :  0.4315599568684896\n",
      "Epoch :  6  Loss :  0.4315599568684896\n",
      "Epoch :  7 Iteration :  100  Loss :  0.42407691955566407\n",
      "Epoch :  7 Iteration :  200  Loss :  0.42416748046875\n",
      "Epoch :  7 Iteration :  300  Loss :  0.4241136678059896\n",
      "Epoch :  7 Iteration :  400  Loss :  0.4221269989013672\n",
      "Epoch :  7 Iteration :  500  Loss :  0.4182532043457031\n",
      "Epoch :  7 Iteration :  600  Loss :  0.4153509775797526\n",
      "Epoch :  7  Loss :  0.4153509775797526\n",
      "Epoch :  8 Iteration :  100  Loss :  0.4100766372680664\n",
      "Epoch :  8 Iteration :  200  Loss :  0.406236572265625\n",
      "Epoch :  8 Iteration :  300  Loss :  0.40022191365559895\n",
      "Epoch :  8 Iteration :  400  Loss :  0.4021002197265625\n",
      "Epoch :  8 Iteration :  500  Loss :  0.40123614501953125\n",
      "Epoch :  8 Iteration :  600  Loss :  0.402652587890625\n",
      "Epoch :  8  Loss :  0.402652587890625\n",
      "Epoch :  9 Iteration :  100  Loss :  0.40197776794433593\n",
      "Epoch :  9 Iteration :  200  Loss :  0.39793106079101564\n",
      "Epoch :  9 Iteration :  300  Loss :  0.3948711649576823\n",
      "Epoch :  9 Iteration :  400  Loss :  0.3960858917236328\n",
      "Epoch :  9 Iteration :  500  Loss :  0.39456332397460936\n",
      "Epoch :  9 Iteration :  600  Loss :  0.3923686981201172\n",
      "Epoch :  9  Loss :  0.3923686981201172\n",
      "Epoch :  10 Iteration :  100  Loss :  0.38857349395751956\n",
      "Epoch :  10 Iteration :  200  Loss :  0.3902737808227539\n",
      "Epoch :  10 Iteration :  300  Loss :  0.38539904276529946\n",
      "Epoch :  10 Iteration :  400  Loss :  0.385576057434082\n",
      "Epoch :  10 Iteration :  500  Loss :  0.38547412109375\n",
      "Epoch :  10 Iteration :  600  Loss :  0.38383702596028646\n",
      "Epoch :  10  Loss :  0.38383702596028646\n",
      "Training Done !\n"
     ]
    }
   ],
   "source": [
    "batch_size = 100\n",
    "\n",
    "data_iter = DataLoader(mnist_train, batch_size=100, shuffle=True, num_workers=1)\n",
    "\n",
    "for epoch in range(10):\n",
    "    \n",
    "    avg_loss = 0\n",
    "    total_batch = len(mnist_train)//batch_size\n",
    "    \n",
    "    for i, (batch_img, batch_lab) in enumerate(data_iter):\n",
    "        \n",
    "        X = batch_img.view(-1, 28*28).to(device)\n",
    "        Y = batch_lab.to(device)\n",
    "        \n",
    "        y_pred = model.forward(X)\n",
    "        \n",
    "        sloss = criterion(y_pred, Y)\n",
    "        # Zero gradients, perform a backward pass, and update the weights.\n",
    "\n",
    "        optimizer.zero_grad()\n",
    "        loss.backward()\n",
    "        optimizer.step()\n",
    "        avg_loss += loss\n",
    "        if (i+1)%100 == 0 :\n",
    "            print(\"Epoch : \", epoch+1, \"Iteration : \", i+1, \" Loss : \", avg_loss.data.cpu().numpy()/(i+1))\n",
    "    print(\"Epoch : \", epoch+1, \" Loss : \", avg_loss.data.cpu().numpy()/(i+1))\n",
    "print(\"Training Done !\")"
   ]
  },
  {
   "cell_type": "markdown",
   "metadata": {},
   "source": [
    "# Evaluation"
   ]
  },
  {
   "cell_type": "code",
   "execution_count": 6,
   "metadata": {},
   "outputs": [
    {
     "name": "stdout",
     "output_type": "stream",
     "text": [
      "Accuracy :  89.96\n"
     ]
    }
   ],
   "source": [
    "test_img = mnist_test.test_data.view(-1, 28*28).type(torch.FloatTensor)\n",
    "test_lab = mnist_test.test_labels\n",
    "outputs = model.forward(test_img)\n",
    "pred_val, pred_idx = torch.max(outputs.data, 1)\n",
    "correct = (pred_idx == test_lab).sum()\n",
    "print('Accuracy : ', correct.data.numpy()/len(test_img)*100)"
   ]
  },
  {
   "cell_type": "markdown",
   "metadata": {},
   "source": [
    "# Testing"
   ]
  },
  {
   "cell_type": "code",
   "execution_count": 7,
   "metadata": {},
   "outputs": [
    {
     "name": "stdout",
     "output_type": "stream",
     "text": [
      "Label :  [2]\n",
      "Prediction :  [2]\n"
     ]
    },
    {
     "data": {
      "image/png": "[encoded data removed]",
      "text/plain": [
       "<Figure size 432x288 with 1 Axes>"
      ]
     },
     "metadata": {},
     "output_type": "display_data"
    }
   ],
   "source": [
    "r = np.random.randint(0, len(mnist_test)-1)\n",
    "X_single_data = mnist_test.test_data[r:r + 1].view(-1,28*28).to(device)\n",
    "Y_single_data = mnist_test.test_labels[r:r + 1].to(device)\n",
    "\n",
    "single_prediction = model(X_single_data)\n",
    "plt.imshow(X_single_data.data.view(28,28).cpu().numpy(), cmap='gray')\n",
    "plt.title(\"Label : {}, Prediction : {}\".format(Y_single_data.data.cpu().view(1).numpy(), torch.max(single_prediction.data, 1)[1].cpu().numpy()))\n",
    "plt.show()"
   ]
  }
 ],
 "metadata": {
  "kernelspec": {
   "display_name": "Python 3",
   "language": "python",
   "name": "python3"
  },
  "language_info": {
   "codemirror_mode": {
    "name": "ipython",
    "version": 3
   },
   "file_extension": ".py",
   "mimetype": "text/x-python",
   "name": "python",
   "nbconvert_exporter": "python",
   "pygments_lexer": "ipython3",
   "version": "3.6.5"
  }
 },
 "nbformat": 4,
 "nbformat_minor": 2
}
