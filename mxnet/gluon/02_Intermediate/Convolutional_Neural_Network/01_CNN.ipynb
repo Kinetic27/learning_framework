{
 "cells": [
  {
   "cell_type": "code",
   "execution_count": 1,
   "metadata": {},
   "outputs": [
    {
     "name": "stdout",
     "output_type": "stream",
     "text": [
      "Load Package!\n"
     ]
    }
   ],
   "source": [
    "import os\n",
    "import numpy as np\n",
    "import mxnet as mx\n",
    "from mxnet import nd, gluon, init, autograd\n",
    "from mxnet.gluon.data.vision import datasets\n",
    "from mxnet.gluon import nn\n",
    "from matplotlib import pyplot as plt\n",
    "print(\"Load Package!\")"
   ]
  },
  {
   "cell_type": "code",
   "execution_count": 13,
   "metadata": {},
   "outputs": [
    {
     "data": {
      "text/plain": [
       "cpu(0)"
      ]
     },
     "execution_count": 13,
     "metadata": {},
     "output_type": "execute_result"
    }
   ],
   "source": [
    "def try_gpu():\n",
    "    try:\n",
    "        ctx = mx.gpu()\n",
    "        _ = nd.zeros((1,), ctx=ctx)\n",
    "    except mx.base.MXNetError:\n",
    "        ctx = mx.cpu()\n",
    "    return ctx\n",
    "\n",
    "ctx = try_gpu()\n",
    "print(ctx)"
   ]
  },
  {
   "cell_type": "code",
   "execution_count": 15,
   "metadata": {},
   "outputs": [
    {
     "name": "stdout",
     "output_type": "stream",
     "text": [
      "(60000, 28, 28, 1)\n",
      "(60000,)\n",
      "(10000, 28, 28, 1)\n",
      "(10000,)\n"
     ]
    }
   ],
   "source": [
    "train_raw_data = datasets.MNIST(train=True)\n",
    "val_raw_data = datasets.MNIST(train=False)\n",
    "\n",
    "train_data = {}\n",
    "train_data['data'] = np.array([i[0].asnumpy() for i in train_raw_data])\n",
    "train_data['label'] = np.array([i[1] for i in train_raw_data])\n",
    "#train_data['label'] = np.array([np.eye(1, 10, k=i[1]).squeeze(axis=0) for i in train_raw_data])\n",
    "\n",
    "print(train_data['data'].shape)\n",
    "print(train_data['label'].shape)\n",
    "\n",
    "val_data = {}\n",
    "val_data['data'] = np.array([i[0].asnumpy() for i in val_raw_data])\n",
    "val_data['label'] = np.array([i[1] for i in val_raw_data])\n",
    "#val_data['label'] = np.array([np.eye(1, 10, k=i[1]).squeeze(axis=0) for i in val_raw_data])\n",
    "\n",
    "print(val_data['data'].shape)\n",
    "print(val_data['label'].shape)"
   ]
  },
  {
   "cell_type": "code",
   "execution_count": null,
   "metadata": {},
   "outputs": [],
   "source": [
    "# %%\n",
    "net = nn.Sequential()\n",
    "net.add(nn.Conv2D(16, 3, padding=(1,1), activation='relu'))\n",
    "net.add(nn.MaxPool2D())\n",
    "net.add(nn.Conv2D(64, 3, padding=(1,1), activation='relu'))\n",
    "net.add(nn.MaxPool2D())\n",
    "net.add(nn.GlobalAvgPool2D())\n",
    "net.add(nn.Dense(1, activation='sigmoid'))\n",
    "\n",
    "net.initialize(init=init.Xavier())\n",
    "\n",
    "cross_entropy = gluon.loss.SoftmaxCELoss()\n",
    "trainer = gluon.Trainer(net.collect_params(), 'sgd', {'learning_rate': 0.01})\n",
    "#%%\n",
    "print(\"Setting Done!\")"
   ]
  },
  {
   "cell_type": "code",
   "execution_count": null,
   "metadata": {},
   "outputs": [],
   "source": [
    "batch_size = 100\n",
    "tot_iter = len(train_data['data']) // batch_size\n",
    "print(\"Start Training!\")\n",
    "for epoch in range(10):\n",
    "    train_loss, train_acc, valid_acc = 0., 0., 0.\n",
    "    #tic = time.time()\n",
    "    # forward + backward\n",
    "    for iter in range(tot_iter):\n",
    "        idx = np.random.choice(len(train_data['data']), batch_size, replace=False)\n",
    "        with autograd.record():\n",
    "            output = net(nd.array(train_data['data'][idx]))\n",
    "            loss = cross_entropy(output, nd.array(train_data['label'][idx]))\n",
    "        loss.backward()\n",
    "        # update parameters\n",
    "        trainer.step(batch_size)\n",
    "        train_loss += loss.mean().asscalar()\n",
    "        \n",
    "    val_idx = np.random.choice(len(val_data['data']), 100, replace=False)\n",
    "    output = nd.argmax(net(nd.array(val_data['data'][val_idx])), axis = 1).asnumpy()\n",
    "    acc = np.mean(output == val_data['label'][val_idx])\n",
    "\n",
    "    print(\"Epoch : %d, loss : %f, val_acc : %f\"%(epoch+1, train_loss/batch_size, acc))"
   ]
  }
 ],
 "metadata": {
  "kernelspec": {
   "display_name": "Python 3",
   "language": "python",
   "name": "python3"
  },
  "language_info": {
   "codemirror_mode": {
    "name": "ipython",
    "version": 3
   },
   "file_extension": ".py",
   "mimetype": "text/x-python",
   "name": "python",
   "nbconvert_exporter": "python",
   "pygments_lexer": "ipython3",
   "version": "3.6.8"
  }
 },
 "nbformat": 4,
 "nbformat_minor": 2
}
