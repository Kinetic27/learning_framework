{
 "cells": [
  {
   "cell_type": "markdown",
   "metadata": {},
   "source": [
    "# Installation\n",
    "\n",
    "\n",
    "``` bash\n",
    "pip3 install torch torchvision\n",
    "```"
   ]
  },
  {
   "cell_type": "code",
   "execution_count": 1,
   "metadata": {},
   "outputs": [],
   "source": [
    "import torch\n",
    "import numpy as np"
   ]
  },
  {
   "cell_type": "markdown",
   "metadata": {},
   "source": [
    "## Tensors"
   ]
  },
  {
   "cell_type": "code",
   "execution_count": 2,
   "metadata": {},
   "outputs": [
    {
     "name": "stdout",
     "output_type": "stream",
     "text": [
      "tensor([[ 0.0000e+00, -0.0000e+00, -2.2820e+21],\n",
      "        [-4.6577e-10,  5.6052e-45, -0.0000e+00],\n",
      "        [-2.2839e+21, -8.5920e+09,  1.8028e+28],\n",
      "        [ 1.4348e-19,  2.7530e+12,  7.5338e+28],\n",
      "        [ 1.4569e-19,  1.8888e+31,  3.8063e-39]])\n",
      "\n",
      "--------------------------------------------\n",
      "\n",
      "tensor([[0.4750, 0.3843, 0.2148],\n",
      "        [0.9187, 0.1010, 0.0038],\n",
      "        [0.2822, 0.9670, 0.5946],\n",
      "        [0.4977, 0.5415, 0.1846],\n",
      "        [0.2094, 0.2287, 0.1382]])\n",
      "\n",
      "--------------------------------------------\n",
      "\n",
      "tensor([[0, 0, 0],\n",
      "        [0, 0, 0],\n",
      "        [0, 0, 0],\n",
      "        [0, 0, 0],\n",
      "        [0, 0, 0]])\n",
      "\n",
      "--------------------------------------------\n",
      "\n",
      "tensor([5.5000, 3.0000])\n",
      "\n",
      "--------------------------------------------\n",
      "\n",
      "tensor([[1., 1., 1.],\n",
      "        [1., 1., 1.],\n",
      "        [1., 1., 1.],\n",
      "        [1., 1., 1.],\n",
      "        [1., 1., 1.]], dtype=torch.float64)\n",
      "\n",
      "--------------------------------------------\n",
      "\n",
      "tensor([[ 0.1389,  0.3795, -0.9001],\n",
      "        [-0.3488,  1.0108, -0.6430],\n",
      "        [-1.8868,  0.8397, -1.2411],\n",
      "        [ 0.0109,  0.0566,  0.2325],\n",
      "        [ 2.1353,  1.2601, -1.4993]])\n",
      "\n",
      "--------------------------------------------\n",
      "\n",
      "torch.Size([5, 3])\n"
     ]
    }
   ],
   "source": [
    "# Unintiailzed\n",
    "a = torch.empty(5, 3)\n",
    "print(a)\n",
    "print('\\n--------------------------------------------\\n')\n",
    "# Randomly intiailzed\n",
    "b = torch.rand(5, 3)\n",
    "print(b)\n",
    "print('\\n--------------------------------------------\\n')\n",
    "# Matrix filled zero and of dtype long\n",
    "c = torch.zeros(5, 3, dtype=torch.long)\n",
    "print(c)\n",
    "print('\\n--------------------------------------------\\n')\n",
    "# Tensor directly from data\n",
    "d = torch.tensor([5.5, 3])\n",
    "print(d)\n",
    "print('\\n--------------------------------------------\\n')\n",
    "# \n",
    "e = a.new_ones(5, 3, dtype=torch.double)\n",
    "print(e)\n",
    "print('\\n--------------------------------------------\\n')\n",
    "f = torch.randn_like(e, dtype=torch.float)    \n",
    "print(f)\n",
    "print('\\n--------------------------------------------\\n')\n",
    "print(f.size())"
   ]
  },
  {
   "cell_type": "markdown",
   "metadata": {},
   "source": [
    "## Operations"
   ]
  },
  {
   "cell_type": "code",
   "execution_count": 3,
   "metadata": {},
   "outputs": [
    {
     "name": "stdout",
     "output_type": "stream",
     "text": [
      "x+y\n",
      "\n",
      "tensor([[1.7058, 0.8136, 0.3722],\n",
      "        [0.7308, 1.1851, 1.3569],\n",
      "        [0.9644, 0.9824, 1.3816],\n",
      "        [1.2927, 0.2835, 0.9002],\n",
      "        [1.1363, 1.4954, 1.4070]])\n",
      "\n",
      "--------------------------------------------\n",
      "\n",
      "torch.add(x,y)\n",
      "\n",
      "tensor([[1.7058, 0.8136, 0.3722],\n",
      "        [0.7308, 1.1851, 1.3569],\n",
      "        [0.9644, 0.9824, 1.3816],\n",
      "        [1.2927, 0.2835, 0.9002],\n",
      "        [1.1363, 1.4954, 1.4070]])\n",
      "\n",
      "--------------------------------------------\n",
      "\n",
      "Before Assign\n",
      "\n",
      "tensor([[                      0.0000,                      -0.0000,\n",
      "         -2282525340668006498304.0000],\n",
      "        [                      0.0000,                       0.0000,\n",
      "                               0.0000],\n",
      "        [                      0.0000,                       0.0000,\n",
      "                               0.0000],\n",
      "        [                      0.0000,                       0.0000,\n",
      "                               0.0000],\n",
      "        [                      0.0000,                       0.0000,\n",
      "                                  nan]])\n",
      "\n",
      "--------------------------------------------\n",
      "\n",
      "After Assign\n",
      "\n",
      "tensor([[1.7058, 0.8136, 0.3722],\n",
      "        [0.7308, 1.1851, 1.3569],\n",
      "        [0.9644, 0.9824, 1.3816],\n",
      "        [1.2927, 0.2835, 0.9002],\n",
      "        [1.1363, 1.4954, 1.4070]])\n",
      "\n",
      "--------------------------------------------\n",
      "\n",
      "Raw y data\n",
      "\n",
      "tensor([[0.9943, 0.3015, 0.0920],\n",
      "        [0.6121, 0.6556, 0.7037],\n",
      "        [0.0415, 0.4410, 0.4262],\n",
      "        [0.4516, 0.0935, 0.6971],\n",
      "        [0.1807, 0.8145, 0.8527]])\n",
      "\n",
      "--------------------------------------------\n",
      "\n",
      "Inplacing y data\n",
      "\n",
      "tensor([[1.7058, 0.8136, 0.3722],\n",
      "        [0.7308, 1.1851, 1.3569],\n",
      "        [0.9644, 0.9824, 1.3816],\n",
      "        [1.2927, 0.2835, 0.9002],\n",
      "        [1.1363, 1.4954, 1.4070]])\n"
     ]
    }
   ],
   "source": [
    "x = torch.rand(5, 3)\n",
    "y = torch.rand(5, 3)\n",
    "print('x+y\\n')\n",
    "print(x+y)\n",
    "print('\\n--------------------------------------------\\n')\n",
    "print('torch.add(x,y)\\n')\n",
    "print(torch.add(x, y))\n",
    "print('\\n--------------------------------------------\\n')\n",
    "result = torch.empty(5, 3)\n",
    "print(\"Before Assign\\n\")\n",
    "print(result)\n",
    "torch.add(x, y, out=result)\n",
    "print('\\n--------------------------------------------\\n')\n",
    "print(\"After Assign\\n\")\n",
    "print(result)\n",
    "\n",
    "print('\\n--------------------------------------------\\n')\n",
    "\n",
    "# adds x to y\n",
    "print('Raw y data\\n')\n",
    "print(y)\n",
    "print('\\n--------------------------------------------\\n')\n",
    "y.add_(x)\n",
    "print('Inplacing y data\\n')\n",
    "print(y)"
   ]
  },
  {
   "cell_type": "code",
   "execution_count": 4,
   "metadata": {},
   "outputs": [
    {
     "name": "stdout",
     "output_type": "stream",
     "text": [
      "torch.Size([4, 4]) torch.Size([16]) torch.Size([2, 8])\n"
     ]
    }
   ],
   "source": [
    "x = torch.randn(4, 4)\n",
    "y = x.view(16)\n",
    "z = x.view(-1, 8)  # the size -1 is inferred from other dimensions\n",
    "print(x.size(), y.size(), z.size())"
   ]
  },
  {
   "cell_type": "code",
   "execution_count": 5,
   "metadata": {},
   "outputs": [
    {
     "name": "stdout",
     "output_type": "stream",
     "text": [
      "tensor(0.7664)\n",
      "0.7663784027099609\n"
     ]
    }
   ],
   "source": [
    "print(z[0,0])\n",
    "print(z[0,0].item())"
   ]
  },
  {
   "cell_type": "markdown",
   "metadata": {},
   "source": [
    "# NumPy Bridge\n",
    "### Converting a Torch to NumPy"
   ]
  },
  {
   "cell_type": "code",
   "execution_count": 8,
   "metadata": {},
   "outputs": [
    {
     "name": "stdout",
     "output_type": "stream",
     "text": [
      "tensor([1., 1., 1., 1., 1.])\n",
      "----------------------\n",
      "[1. 1. 1. 1. 1.]\n",
      "----------------------\n",
      "tensor([2., 2., 2., 2., 2.])\n",
      "[2. 2. 2. 2. 2.]\n"
     ]
    }
   ],
   "source": [
    "a = torch.ones(5)\n",
    "print(a)\n",
    "print('----------------------')\n",
    "b = a.numpy()\n",
    "print(b)\n",
    "print('----------------------')\n",
    "a.add_(1)\n",
    "print(a)\n",
    "print(b)"
   ]
  },
  {
   "cell_type": "markdown",
   "metadata": {},
   "source": [
    "### Converting Numpy to Torch"
   ]
  },
  {
   "cell_type": "code",
   "execution_count": 9,
   "metadata": {},
   "outputs": [
    {
     "name": "stdout",
     "output_type": "stream",
     "text": [
      "[2. 2. 2. 2. 2.]\n",
      "tensor([2., 2., 2., 2., 2.], dtype=torch.float64)\n"
     ]
    }
   ],
   "source": [
    "a = np.ones(5)\n",
    "b = torch.from_numpy(a)\n",
    "np.add(a, 1, out=a)\n",
    "print(a)\n",
    "print(b)"
   ]
  }
 ],
 "metadata": {
  "kernelspec": {
   "display_name": "Python 3",
   "language": "python",
   "name": "python3"
  },
  "language_info": {
   "codemirror_mode": {
    "name": "ipython",
    "version": 3
   },
   "file_extension": ".py",
   "mimetype": "text/x-python",
   "name": "python",
   "nbconvert_exporter": "python",
   "pygments_lexer": "ipython3",
   "version": "3.6.5"
  }
 },
 "nbformat": 4,
 "nbformat_minor": 2
}
