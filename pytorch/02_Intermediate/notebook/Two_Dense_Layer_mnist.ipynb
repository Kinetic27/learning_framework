{
 "cells": [
  {
   "cell_type": "markdown",
   "metadata": {},
   "source": [
    "# Importing Modules"
   ]
  },
  {
   "cell_type": "code",
   "execution_count": 1,
   "metadata": {},
   "outputs": [],
   "source": [
    "import torch\n",
    "import torch.nn.functional as F\n",
    "from torch import nn\n",
    "from torch import optim\n",
    "from torch.autograd import Variable\n",
    "from torchvision import utils\n",
    "from torchvision import datasets\n",
    "from torchvision import transforms\n",
    "import numpy as np\n",
    "from matplotlib import pyplot as plt"
   ]
  },
  {
   "cell_type": "markdown",
   "metadata": {},
   "source": [
    "# Loading Data"
   ]
  },
  {
   "cell_type": "code",
   "execution_count": 2,
   "metadata": {},
   "outputs": [
    {
     "name": "stdout",
     "output_type": "stream",
     "text": [
      "Downloading Train Data Done ! \n",
      "Downloading Test Data Done ! \n"
     ]
    }
   ],
   "source": [
    "# MNIST dataset\n",
    "mnist_train = datasets.MNIST(root='../data/',\n",
    "                          train=True,\n",
    "                          transform=transforms.ToTensor(),\n",
    "                          download=True)\n",
    "print(\"Downloading Train Data Done ! \")\n",
    "\n",
    "mnist_test = datasets.MNIST(root='../data/',\n",
    "                         train=False,\n",
    "                         transform=transforms.ToTensor(),\n",
    "                         download=True)\n",
    "print(\"Downloading Test Data Done ! \")"
   ]
  },
  {
   "cell_type": "markdown",
   "metadata": {},
   "source": [
    "# Defining Model"
   ]
  },
  {
   "cell_type": "code",
   "execution_count": 3,
   "metadata": {},
   "outputs": [],
   "source": [
    "# our model\n",
    "class Model(nn.Module):\n",
    "    def __init__(self):\n",
    "        super(Model, self).__init__()\n",
    "        self.linear1 = nn.Linear(784, 256)\n",
    "        self.linear2 = nn.Linear(256, 10)\n",
    "    \n",
    "    def forward(self, X):\n",
    "        X = F.relu((self.linear1(X)))\n",
    "        X = self.linear2(X)\n",
    "        return X\n",
    "\n",
    "model = Model()\n",
    "criterion = nn.CrossEntropyLoss()\n",
    "optimizer = optim.Adam(model.parameters(), lr=0.001)"
   ]
  },
  {
   "cell_type": "markdown",
   "metadata": {},
   "source": [
    "# Training Phase"
   ]
  },
  {
   "cell_type": "code",
   "execution_count": 4,
   "metadata": {},
   "outputs": [
    {
     "name": "stdout",
     "output_type": "stream",
     "text": [
      "Iteration maker Done !\n",
      "Epoch :  1 Iteration :  100  Loss :  0.7335117340087891\n",
      "Epoch :  1 Iteration :  200  Loss :  0.5353356552124023\n",
      "Epoch :  1 Iteration :  300  Loss :  0.4490953063964844\n",
      "Epoch :  1 Iteration :  400  Loss :  0.3968754959106445\n",
      "Epoch :  1 Iteration :  500  Loss :  0.3602557067871094\n",
      "Epoch :  1 Iteration :  600  Loss :  0.3354418182373047\n",
      "Epoch :  1  Loss :  0.3354418182373047\n",
      "Epoch :  2 Iteration :  100  Loss :  0.1705564498901367\n",
      "Epoch :  2 Iteration :  200  Loss :  0.15946409225463867\n",
      "Epoch :  2 Iteration :  300  Loss :  0.15276912689208985\n",
      "Epoch :  2 Iteration :  400  Loss :  0.15057459831237793\n",
      "Epoch :  2 Iteration :  500  Loss :  0.14503700256347657\n",
      "Epoch :  2 Iteration :  600  Loss :  0.14219139099121095\n",
      "Epoch :  2  Loss :  0.14219139099121095\n",
      "Epoch :  3 Iteration :  100  Loss :  0.10364503860473633\n",
      "Epoch :  3 Iteration :  200  Loss :  0.09850584030151367\n",
      "Epoch :  3 Iteration :  300  Loss :  0.09970076243082682\n",
      "Epoch :  3 Iteration :  400  Loss :  0.09775398254394531\n",
      "Epoch :  3 Iteration :  500  Loss :  0.09803734588623046\n",
      "Epoch :  3 Iteration :  600  Loss :  0.09742892583211263\n",
      "Epoch :  3  Loss :  0.09742892583211263\n",
      "Epoch :  4 Iteration :  100  Loss :  0.0656384563446045\n",
      "Epoch :  4 Iteration :  200  Loss :  0.06768746376037597\n",
      "Epoch :  4 Iteration :  300  Loss :  0.06881801605224609\n",
      "Epoch :  4 Iteration :  400  Loss :  0.07202191352844238\n",
      "Epoch :  4 Iteration :  500  Loss :  0.07150882720947266\n",
      "Epoch :  4 Iteration :  600  Loss :  0.07084365208943685\n",
      "Epoch :  4  Loss :  0.07084365208943685\n",
      "Epoch :  5 Iteration :  100  Loss :  0.054083609580993654\n",
      "Epoch :  5 Iteration :  200  Loss :  0.052395687103271485\n",
      "Epoch :  5 Iteration :  300  Loss :  0.05376594543457031\n",
      "Epoch :  5 Iteration :  400  Loss :  0.053677544593811036\n",
      "Epoch :  5 Iteration :  500  Loss :  0.05379545593261719\n",
      "Epoch :  5 Iteration :  600  Loss :  0.053847185770670575\n",
      "Epoch :  5  Loss :  0.053847185770670575\n",
      "Epoch :  6 Iteration :  100  Loss :  0.04283069133758545\n",
      "Epoch :  6 Iteration :  200  Loss :  0.04305961132049561\n",
      "Epoch :  6 Iteration :  300  Loss :  0.043155555725097654\n",
      "Epoch :  6 Iteration :  400  Loss :  0.04273928642272949\n",
      "Epoch :  6 Iteration :  500  Loss :  0.042591724395751956\n",
      "Epoch :  6 Iteration :  600  Loss :  0.042555901209513344\n",
      "Epoch :  6  Loss :  0.042555901209513344\n",
      "Epoch :  7 Iteration :  100  Loss :  0.03244595766067505\n",
      "Epoch :  7 Iteration :  200  Loss :  0.03408633232116699\n",
      "Epoch :  7 Iteration :  300  Loss :  0.0338128916422526\n",
      "Epoch :  7 Iteration :  400  Loss :  0.033720703125\n",
      "Epoch :  7 Iteration :  500  Loss :  0.033916282653808597\n",
      "Epoch :  7 Iteration :  600  Loss :  0.03390238761901856\n",
      "Epoch :  7  Loss :  0.03390238761901856\n",
      "Epoch :  8 Iteration :  100  Loss :  0.02346569538116455\n",
      "Epoch :  8 Iteration :  200  Loss :  0.023072972297668456\n",
      "Epoch :  8 Iteration :  300  Loss :  0.0240980323155721\n",
      "Epoch :  8 Iteration :  400  Loss :  0.02467975616455078\n",
      "Epoch :  8 Iteration :  500  Loss :  0.025870725631713866\n",
      "Epoch :  8 Iteration :  600  Loss :  0.025986998875935873\n",
      "Epoch :  8  Loss :  0.025986998875935873\n",
      "Epoch :  9 Iteration :  100  Loss :  0.020221431255340577\n",
      "Epoch :  9 Iteration :  200  Loss :  0.01984480142593384\n",
      "Epoch :  9 Iteration :  300  Loss :  0.019234485626220703\n",
      "Epoch :  9 Iteration :  400  Loss :  0.01943344473838806\n",
      "Epoch :  9 Iteration :  500  Loss :  0.019967206954956053\n",
      "Epoch :  9 Iteration :  600  Loss :  0.020930999120076496\n",
      "Epoch :  9  Loss :  0.020930999120076496\n",
      "Epoch :  10 Iteration :  100  Loss :  0.016565544605255125\n",
      "Epoch :  10 Iteration :  200  Loss :  0.015263166427612305\n",
      "Epoch :  10 Iteration :  300  Loss :  0.01614484151204427\n",
      "Epoch :  10 Iteration :  400  Loss :  0.0161797297000885\n",
      "Epoch :  10 Iteration :  500  Loss :  0.01628180694580078\n",
      "Epoch :  10 Iteration :  600  Loss :  0.0167751677831014\n",
      "Epoch :  10  Loss :  0.0167751677831014\n",
      "Training Done !\n"
     ]
    }
   ],
   "source": [
    "batch_size = 100\n",
    "\n",
    "data_iter = torch.utils.data.DataLoader(mnist_train, batch_size=100, shuffle=True, num_workers=1)\n",
    "\n",
    "print(\"Iteration maker Done !\")\n",
    "\n",
    "# Training loop\n",
    "for epoch in range(10):\n",
    "    avg_loss = 0\n",
    "    total_batch = len(mnist_train) // batch_size\n",
    "    for i, (batch_img, batch_lab) in enumerate(data_iter):\n",
    "        X = Variable(batch_img.view(-1, 28*28))\n",
    "        Y = Variable(batch_lab)\n",
    "        \n",
    "        y_pred = model.forward(X)\n",
    "        \n",
    "        loss = criterion(y_pred, Y)\n",
    "        # Zero gradients, perform a backward pass, and update the weights.\n",
    "        optimizer.zero_grad()\n",
    "        loss.backward()\n",
    "        optimizer.step()\n",
    "        avg_loss += loss\n",
    "        if (i+1)%100 == 0 :\n",
    "            print(\"Epoch : \", epoch+1, \"Iteration : \", i+1, \" Loss : \", avg_loss.data.numpy()/(i+1))\n",
    "    print(\"Epoch : \", epoch+1, \" Loss : \", avg_loss.data.numpy()/total_batch)\n",
    "print(\"Training Done !\")"
   ]
  },
  {
   "cell_type": "markdown",
   "metadata": {},
   "source": [
    "# Evaluation"
   ]
  },
  {
   "cell_type": "code",
   "execution_count": 5,
   "metadata": {},
   "outputs": [
    {
     "name": "stdout",
     "output_type": "stream",
     "text": [
      "Accuracy :  97.95\n"
     ]
    }
   ],
   "source": [
    "test_img = mnist_test.test_data.view(-1, 28*28).type(torch.FloatTensor)\n",
    "test_lab = mnist_test.test_labels\n",
    "outputs = model.forward(test_img)\n",
    "pred_val, pred_idx = torch.max(outputs.data, 1)\n",
    "correct = (pred_idx == test_lab).sum()\n",
    "print('Accuracy : ', correct.data.numpy()/len(test_img)*100)"
   ]
  },
  {
   "cell_type": "markdown",
   "metadata": {},
   "source": [
    "# Testing"
   ]
  },
  {
   "cell_type": "code",
   "execution_count": 6,
   "metadata": {},
   "outputs": [
    {
     "name": "stdout",
     "output_type": "stream",
     "text": [
      "Label :  [2]\n",
      "Prediction :  [2]\n"
     ]
    },
    {
     "data": {
      "image/png": "[encoded data removed]",
      "text/plain": [
       "<Figure size 432x288 with 1 Axes>"
      ]
     },
     "metadata": {},
     "output_type": "display_data"
    }
   ],
   "source": [
    "r = np.random.randint(0, len(mnist_test)-1)\n",
    "X_single_data = mnist_test.test_data[r:r + 1].view(-1,28*28).float()\n",
    "Y_single_data = mnist_test.test_labels[r:r + 1]\n",
    "\n",
    "single_prediction = model(X_single_data)\n",
    "plt.imshow(X_single_data.data.view(28,28).numpy(), cmap='gray')\n",
    "\n",
    "print('Label : ', Y_single_data.data.view(1).numpy())\n",
    "print('Prediction : ', torch.max(single_prediction.data, 1)[1].numpy())"
   ]
  }
 ],
 "metadata": {
  "kernelspec": {
   "display_name": "Python 3",
   "language": "python",
   "name": "python3"
  },
  "language_info": {
   "codemirror_mode": {
    "name": "ipython",
    "version": 3
   },
   "file_extension": ".py",
   "mimetype": "text/x-python",
   "name": "python",
   "nbconvert_exporter": "python",
   "pygments_lexer": "ipython3",
   "version": "3.6.5"
  }
 },
 "nbformat": 4,
 "nbformat_minor": 2
}
