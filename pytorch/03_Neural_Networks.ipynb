{
 "cells": [
  {
   "cell_type": "code",
   "execution_count": 1,
   "metadata": {},
   "outputs": [],
   "source": [
    "import torch\n",
    "import torch.nn as nn\n",
    "import torch.nn.functional as F\n",
    "\n",
    "import numpy as np"
   ]
  },
  {
   "cell_type": "code",
   "execution_count": 2,
   "metadata": {},
   "outputs": [],
   "source": [
    "conv1 = nn.Conv2d(1, 6, 5)\n",
    "conv2 = nn.Conv2d(6, 16, 5)\n",
    "# an affine operation: y = Wx + b\n",
    "fc1 = nn.Linear(16 * 5 * 5, 120)\n",
    "fc2 = nn.Linear(120, 84)\n",
    "fc3 = nn.Linear(84, 10)"
   ]
  },
  {
   "cell_type": "code",
   "execution_count": 4,
   "metadata": {},
   "outputs": [],
   "source": [
    "x = torch.randn([1, 1, 32, 32])"
   ]
  },
  {
   "cell_type": "code",
   "execution_count": 5,
   "metadata": {
    "scrolled": true
   },
   "outputs": [],
   "source": [
    "x = F.max_pool2d(F.relu(conv1(x)), (2, 2))"
   ]
  },
  {
   "cell_type": "code",
   "execution_count": 6,
   "metadata": {
    "scrolled": true
   },
   "outputs": [
    {
     "data": {
      "text/plain": [
       "tensor([[[[0.5066, 0.7254, 0.3573,  ..., 0.2383, 1.1275, 0.8354],\n",
       "          [0.8282, 0.3150, 1.3036,  ..., 1.0157, 1.2733, 0.4106],\n",
       "          [1.0966, 0.3306, 0.8874,  ..., 1.5110, 1.6439, 0.2394],\n",
       "          ...,\n",
       "          [1.0347, 0.2877, 0.5908,  ..., 0.8505, 1.3826, 0.2933],\n",
       "          [0.8765, 0.7268, 1.0241,  ..., 0.8271, 0.8014, 0.4014],\n",
       "          [0.8446, 0.4074, 1.1317,  ..., 1.0023, 0.4900, 0.3548]],\n",
       "\n",
       "         [[0.4141, 0.6549, 0.2815,  ..., 1.4328, 1.0895, 0.2605],\n",
       "          [1.0525, 0.3710, 1.0641,  ..., 0.7481, 0.6131, 0.4535],\n",
       "          [0.1461, 1.3274, 0.6011,  ..., 0.6448, 0.4718, 0.2430],\n",
       "          ...,\n",
       "          [0.4700, 0.3134, 0.4212,  ..., 0.1921, 0.1743, 0.7534],\n",
       "          [0.6308, 0.6789, 0.6296,  ..., 0.7273, 0.5046, 0.8699],\n",
       "          [1.1035, 0.4169, 0.2960,  ..., 0.2455, 1.1797, 0.7887]],\n",
       "\n",
       "         [[1.0057, 0.3534, 0.9373,  ..., 0.5642, 0.7588, 0.8225],\n",
       "          [0.2059, 0.3373, 0.5559,  ..., 0.6244, 0.0000, 0.7940],\n",
       "          [0.6765, 0.4783, 1.0933,  ..., 1.4292, 0.8411, 0.9641],\n",
       "          ...,\n",
       "          [0.1719, 0.4223, 0.9222,  ..., 0.7818, 0.9694, 0.4616],\n",
       "          [0.5888, 0.2279, 1.0357,  ..., 0.6409, 0.0000, 0.6091],\n",
       "          [0.0679, 1.5278, 1.2590,  ..., 0.7691, 0.0652, 0.6215]],\n",
       "\n",
       "         [[0.6734, 0.5003, 0.4178,  ..., 1.1136, 0.2332, 0.4250],\n",
       "          [1.1510, 0.2961, 0.5914,  ..., 1.4553, 1.0488, 0.2266],\n",
       "          [0.9437, 0.5315, 0.2549,  ..., 0.3823, 1.4526, 0.9159],\n",
       "          ...,\n",
       "          [0.2816, 0.6821, 0.5313,  ..., 0.1693, 1.1049, 0.4762],\n",
       "          [0.7552, 0.2772, 1.5293,  ..., 0.4306, 0.6869, 0.2189],\n",
       "          [0.5281, 0.8963, 0.9752,  ..., 0.4170, 0.8773, 0.4923]],\n",
       "\n",
       "         [[0.1982, 0.1533, 1.1494,  ..., 0.5115, 0.9156, 0.8260],\n",
       "          [0.7454, 0.5012, 0.7824,  ..., 0.9386, 0.6926, 0.5184],\n",
       "          [1.0268, 1.0436, 0.6613,  ..., 0.6288, 0.0607, 0.9207],\n",
       "          ...,\n",
       "          [0.1349, 0.0000, 0.6614,  ..., 0.2462, 0.4942, 0.6882],\n",
       "          [0.2726, 0.3043, 1.1094,  ..., 0.3142, 0.4496, 0.6216],\n",
       "          [0.0000, 0.7714, 1.4311,  ..., 0.1662, 0.0000, 0.4763]],\n",
       "\n",
       "         [[0.1484, 0.0587, 0.1978,  ..., 1.1391, 0.5415, 0.4409],\n",
       "          [0.0000, 1.0721, 0.7357,  ..., 0.5666, 0.0000, 0.4264],\n",
       "          [0.5244, 0.5717, 0.5009,  ..., 0.5320, 0.1174, 0.4983],\n",
       "          ...,\n",
       "          [0.4794, 0.2535, 0.2773,  ..., 0.3018, 0.0000, 0.2843],\n",
       "          [0.6636, 0.1584, 0.0000,  ..., 0.1730, 0.7172, 0.4213],\n",
       "          [0.5226, 0.5021, 0.0000,  ..., 0.9696, 0.6261, 0.0418]]]],\n",
       "       grad_fn=<MaxPool2DWithIndicesBackward>)"
      ]
     },
     "execution_count": 6,
     "metadata": {},
     "output_type": "execute_result"
    }
   ],
   "source": [
    "x"
   ]
  },
  {
   "cell_type": "code",
   "execution_count": 2,
   "metadata": {},
   "outputs": [
    {
     "name": "stdout",
     "output_type": "stream",
     "text": [
      "Net(\n",
      "  (conv1): Conv2d(1, 6, kernel_size=(5, 5), stride=(1, 1))\n",
      "  (conv2): Conv2d(6, 16, kernel_size=(5, 5), stride=(1, 1))\n",
      "  (fc1): Linear(in_features=400, out_features=120, bias=True)\n",
      "  (fc2): Linear(in_features=120, out_features=84, bias=True)\n",
      "  (fc3): Linear(in_features=84, out_features=10, bias=True)\n",
      ")\n"
     ]
    }
   ],
   "source": [
    "class Net(nn.Module):\n",
    "\n",
    "    def __init__(self):\n",
    "        super(Net, self).__init__()\n",
    "        # 1 input image channel, 6 output channels, 5x5 square convolution\n",
    "        # kernel\n",
    "        self.conv1 = nn.Conv2d(1, 6, 5)\n",
    "        self.conv2 = nn.Conv2d(6, 16, 5)\n",
    "        # an affine operation: y = Wx + b\n",
    "        self.fc1 = nn.Linear(16 * 5 * 5, 120)\n",
    "        self.fc2 = nn.Linear(120, 84)\n",
    "        self.fc3 = nn.Linear(84, 10)\n",
    "\n",
    "    def forward(self, x):\n",
    "        # Max pooling over a (2, 2) window\n",
    "        x = F.max_pool2d(F.relu(self.conv1(x)), (2, 2))\n",
    "        # If the size is a square you can only specify a single number\n",
    "        x = F.max_pool2d(F.relu(self.conv2(x)), 2)\n",
    "        x = x.view(-1, self.num_flat_features(x))\n",
    "        x = F.relu(self.fc1(x))\n",
    "        x = F.relu(self.fc2(x))\n",
    "        x = self.fc3(x)\n",
    "        return x\n",
    "\n",
    "    def num_flat_features(self, x):\n",
    "        size = x.size()[1:]  # all dimensions except the batch dimension\n",
    "        num_features = 1\n",
    "        for s in size:\n",
    "            num_features *= s\n",
    "        return num_features\n",
    "\n",
    "\n",
    "net = Net()\n",
    "print(net)"
   ]
  },
  {
   "cell_type": "code",
   "execution_count": 3,
   "metadata": {},
   "outputs": [
    {
     "name": "stdout",
     "output_type": "stream",
     "text": [
      "10\n",
      "torch.Size([6, 1, 5, 5])\n"
     ]
    }
   ],
   "source": [
    "params = list(net.parameters())\n",
    "print(len(params))\n",
    "print(params[0].size())  # conv1's .weight\n"
   ]
  },
  {
   "cell_type": "code",
   "execution_count": 4,
   "metadata": {},
   "outputs": [
    {
     "name": "stdout",
     "output_type": "stream",
     "text": [
      "tensor([[-0.1804, -0.0028, -0.0551,  0.0904,  0.0306,  0.1734,  0.1526,  0.0115,\n",
      "          0.0678, -0.0021]], grad_fn=<ThAddmmBackward>)\n"
     ]
    }
   ],
   "source": [
    "_input = torch.randn(1, 1, 32, 32)\n",
    "out = net(_input)\n",
    "print(out)"
   ]
  },
  {
   "cell_type": "code",
   "execution_count": 5,
   "metadata": {},
   "outputs": [],
   "source": [
    "net.zero_grad()\n",
    "out.backward(torch.randn(1, 10))"
   ]
  },
  {
   "cell_type": "code",
   "execution_count": 6,
   "metadata": {},
   "outputs": [
    {
     "name": "stdout",
     "output_type": "stream",
     "text": [
      "tensor(0.5819, grad_fn=<MseLossBackward>)\n"
     ]
    }
   ],
   "source": [
    "output = net(input)\n",
    "target = torch.randn(10)  # a dummy target, for example\n",
    "target = target.view(1, -1)  # make it the same shape as output\n",
    "criterion = nn.MSELoss()\n",
    "\n",
    "loss = criterion(output, target)\n",
    "print(loss)\n"
   ]
  },
  {
   "cell_type": "code",
   "execution_count": 7,
   "metadata": {},
   "outputs": [
    {
     "name": "stdout",
     "output_type": "stream",
     "text": [
      "<MseLossBackward object at 0x10acb0240>\n",
      "<ThAddmmBackward object at 0x10acb01d0>\n",
      "<ExpandBackward object at 0x10acb0240>\n"
     ]
    }
   ],
   "source": [
    "print(loss.grad_fn)  # MSELoss\n",
    "print(loss.grad_fn.next_functions[0][0])  # Linear\n",
    "print(loss.grad_fn.next_functions[0][0].next_functions[0][0])  # ReLU"
   ]
  },
  {
   "cell_type": "code",
   "execution_count": 8,
   "metadata": {},
   "outputs": [
    {
     "name": "stdout",
     "output_type": "stream",
     "text": [
      "conv1.bias.grad before backward\n",
      "tensor([0., 0., 0., 0., 0., 0.])\n",
      "conv1.bias.grad after backward\n",
      "tensor([-0.0153, -0.0076, -0.0119, -0.0124,  0.0087, -0.0052])\n"
     ]
    }
   ],
   "source": [
    "net.zero_grad()     # zeroes the gradient buffers of all parameters\n",
    "\n",
    "print('conv1.bias.grad before backward')\n",
    "print(net.conv1.bias.grad)\n",
    "\n",
    "loss.backward()\n",
    "\n",
    "print('conv1.bias.grad after backward')\n",
    "print(net.conv1.bias.grad)"
   ]
  },
  {
   "cell_type": "code",
   "execution_count": 9,
   "metadata": {},
   "outputs": [],
   "source": [
    "learning_rate = 0.01\n",
    "for f in net.parameters():\n",
    "    f.data.sub_(f.grad.data * learning_rate)"
   ]
  },
  {
   "cell_type": "code",
   "execution_count": 10,
   "metadata": {},
   "outputs": [],
   "source": [
    "import torch.optim as optim\n",
    "\n",
    "# create your optimizer\n",
    "optimizer = optim.SGD(net.parameters(), lr=0.01)\n",
    "\n",
    "# in your training loop:\n",
    "optimizer.zero_grad()   # zero the gradient buffers\n",
    "output = net(input)\n",
    "loss = criterion(output, target)\n",
    "loss.backward()\n",
    "optimizer.step()    # Does the update"
   ]
  }
 ],
 "metadata": {
  "kernelspec": {
   "display_name": "Python 3",
   "language": "python",
   "name": "python3"
  },
  "language_info": {
   "codemirror_mode": {
    "name": "ipython",
    "version": 3
   },
   "file_extension": ".py",
   "mimetype": "text/x-python",
   "name": "python",
   "nbconvert_exporter": "python",
   "pygments_lexer": "ipython3",
   "version": "3.6.5"
  }
 },
 "nbformat": 4,
 "nbformat_minor": 2
}
