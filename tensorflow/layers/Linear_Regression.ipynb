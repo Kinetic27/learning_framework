{
 "cells": [
  {
   "cell_type": "code",
   "execution_count": null,
   "metadata": {},
   "outputs": [
    {
     "name": "stderr",
     "output_type": "stream",
     "text": [
      "/Users/jerry/.pyenv/versions/anaconda3-5.2.0/lib/python3.5/importlib/_bootstrap.py:222: RuntimeWarning: compiletime version 3.6 of module 'tensorflow.python.framework.fast_tensor_util' does not match runtime version 3.5\n",
      "  return f(*args, **kwds)\n"
     ]
    }
   ],
   "source": [
    "import numpy as np\n",
    "import tensorflow as tf\n",
    "from matplotlib import pyplot as plt"
   ]
  },
  {
   "cell_type": "code",
   "execution_count": null,
   "metadata": {},
   "outputs": [],
   "source": [
    "x = np.random.normal(0.0, 0.55, (10000, 1))\n",
    "y = x * 0.1 + 0.3 + np.random.normal(0.0, 0.03, (10000,1))\n",
    "                     \n",
    "plt.plot(x, y, 'r.')\n",
    "plt.show()"
   ]
  },
  {
   "cell_type": "code",
   "execution_count": null,
   "metadata": {},
   "outputs": [],
   "source": [
    "X = tf.placeholder(tf.float32, shape=[None, 1])\n",
    "h = tf.layers.Dense(1)(X)"
   ]
  },
  {
   "cell_type": "code",
   "execution_count": null,
   "metadata": {},
   "outputs": [],
   "source": [
    "Y = tf.placeholder(tf.float32, shape = [None, 1])\n",
    "Loss = tf.reduce_mean(tf.square(h - Y))\n",
    "optimizer = tf.train.GradientDescentOptimizer(0.05).minimize(Loss)"
   ]
  },
  {
   "cell_type": "code",
   "execution_count": null,
   "metadata": {},
   "outputs": [],
   "source": [
    "sess = tf.Session()\n",
    "sess.run(tf.global_variables_initializer())"
   ]
  },
  {
   "cell_type": "code",
   "execution_count": null,
   "metadata": {},
   "outputs": [],
   "source": [
    "# Training loop\n",
    "for epoch in range(500):\n",
    "    _, t_loss = sess.run([optimizer, Loss], feed_dict={X:x, Y:y})\n",
    "    \n",
    "    print(\"Epoch : \", epoch, \" Loss : \", t_loss)\n",
    "    \n",
    "    if epoch ==0 :\n",
    "        y_pred = sess.run(h, feed_dict={X:x})\n",
    "        plt.plot(x, y, 'r.')\n",
    "        plt.plot(x, y_pred, 'b.')\n",
    "        plt.show()\n",
    "    elif (epoch+1) % 100 == 0 :\n",
    "        y_pred = sess.run(h, feed_dict={X:x})\n",
    "        plt.plot(x, y, 'r.')\n",
    "        plt.plot(x, y_pred, 'b.')\n",
    "        plt.show()"
   ]
  },
  {
   "cell_type": "code",
   "execution_count": null,
   "metadata": {},
   "outputs": [],
   "source": []
  }
 ],
 "metadata": {
  "kernelspec": {
   "display_name": "Python 3",
   "language": "python",
   "name": "python3"
  },
  "language_info": {
   "codemirror_mode": {
    "name": "ipython",
    "version": 3
   },
   "file_extension": ".py",
   "mimetype": "text/x-python",
   "name": "python",
   "nbconvert_exporter": "python",
   "pygments_lexer": "ipython3",
   "version": "3.5.2"
  }
 },
 "nbformat": 4,
 "nbformat_minor": 2
}
